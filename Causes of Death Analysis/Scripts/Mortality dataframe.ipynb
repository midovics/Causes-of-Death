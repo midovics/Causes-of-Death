{
 "cells": [
  {
   "cell_type": "markdown",
   "id": "548e08ef",
   "metadata": {},
   "source": [
    "# Causes of Death Analysis"
   ]
  },
  {
   "cell_type": "markdown",
   "id": "d758324d",
   "metadata": {},
   "source": [
    "## Table of Contents"
   ]
  },
  {
   "cell_type": "markdown",
   "id": "2b710dca",
   "metadata": {},
   "source": [
    "## 1. Import Libraries and Data"
   ]
  },
  {
   "cell_type": "markdown",
   "id": "2028e7c1",
   "metadata": {},
   "source": [
    "## 1.1 Variables and Data Types (Mortality_all causes_age_sex dataset)"
   ]
  },
  {
   "cell_type": "markdown",
   "id": "8b249e80",
   "metadata": {},
   "source": [
    "## 2. Data Cleaning and Consistency Check\n",
    "2.1 Find Missing Values\n",
    "\n",
    "2.2 Find Duplicates\n",
    "\n",
    "2.3 Find Mixed-Type Values"
   ]
  },
  {
   "cell_type": "markdown",
   "id": "3a5fc908",
   "metadata": {},
   "source": [
    "## 3. Export Mortality_all causes_age_sex dataframe"
   ]
  },
  {
   "cell_type": "markdown",
   "id": "3bad2d51",
   "metadata": {},
   "source": [
    "## 01. Import Libraries and Data"
   ]
  },
  {
   "cell_type": "code",
   "execution_count": 1,
   "id": "2f97c719",
   "metadata": {},
   "outputs": [],
   "source": [
    "#Import libraries\n",
    "import pandas as pd\n",
    "import numpy as np\n",
    "import os"
   ]
  },
  {
   "cell_type": "code",
   "execution_count": 2,
   "id": "5eab1193",
   "metadata": {},
   "outputs": [],
   "source": [
    "#Create a path\n",
    "path=r'C:\\Users\\midov\\Documents\\Studies\\Data Analysis\\Immersion into Data Analytics\\Achievement 6_Advanced Analytics & Dashboard Design\\Causes of Death Analysis'"
   ]
  },
  {
   "cell_type": "code",
   "execution_count": 3,
   "id": "223983f2",
   "metadata": {},
   "outputs": [],
   "source": [
    "#Import \"Mortality_all causes_age_sex.csv\" file as df_mortality, using path variable\n",
    "df_mortality=pd.read_csv(os.path.join(path,'Data','Original Data','Mortality_all causes_age_sex.csv'))"
   ]
  },
  {
   "cell_type": "code",
   "execution_count": 4,
   "id": "207ffa84",
   "metadata": {},
   "outputs": [
    {
     "name": "stdout",
     "output_type": "stream",
     "text": [
      "<class 'pandas.core.frame.DataFrame'>\n",
      "RangeIndex: 65856 entries, 0 to 65855\n",
      "Data columns (total 10 columns):\n",
      " #   Column                        Non-Null Count  Dtype  \n",
      "---  ------                        --------------  -----  \n",
      " 0   Region Name                   65856 non-null  object \n",
      " 1   Country Code                  65856 non-null  object \n",
      " 2   Country Name                  65856 non-null  object \n",
      " 3   Year                          65856 non-null  int64  \n",
      " 4   Sex                           65856 non-null  object \n",
      " 5   Age Group                     65856 non-null  object \n",
      " 6   Number                        65556 non-null  float64\n",
      " 7   % of cause-specific deaths    65856 non-null  int64  \n",
      " 8   Age-standardized death rate   2937 non-null   float64\n",
      " 9   Death rate                    58200 non-null  float64\n",
      "dtypes: float64(3), int64(2), object(5)\n",
      "memory usage: 5.0+ MB\n"
     ]
    },
    {
     "data": {
      "text/html": [
       "<div>\n",
       "<style scoped>\n",
       "    .dataframe tbody tr th:only-of-type {\n",
       "        vertical-align: middle;\n",
       "    }\n",
       "\n",
       "    .dataframe tbody tr th {\n",
       "        vertical-align: top;\n",
       "    }\n",
       "\n",
       "    .dataframe thead th {\n",
       "        text-align: right;\n",
       "    }\n",
       "</style>\n",
       "<table border=\"1\" class=\"dataframe\">\n",
       "  <thead>\n",
       "    <tr style=\"text-align: right;\">\n",
       "      <th></th>\n",
       "      <th>count</th>\n",
       "      <th>mean</th>\n",
       "      <th>std</th>\n",
       "      <th>min</th>\n",
       "      <th>25%</th>\n",
       "      <th>50%</th>\n",
       "      <th>75%</th>\n",
       "      <th>max</th>\n",
       "    </tr>\n",
       "  </thead>\n",
       "  <tbody>\n",
       "    <tr>\n",
       "      <th>Year</th>\n",
       "      <td>65856.0</td>\n",
       "      <td>2013.573342</td>\n",
       "      <td>3.039156</td>\n",
       "      <td>2009.000000</td>\n",
       "      <td>2011.000000</td>\n",
       "      <td>2013.000000</td>\n",
       "      <td>2016.000000</td>\n",
       "      <td>2.019000e+03</td>\n",
       "    </tr>\n",
       "    <tr>\n",
       "      <th>Number</th>\n",
       "      <td>65556.0</td>\n",
       "      <td>12197.011471</td>\n",
       "      <td>71719.076995</td>\n",
       "      <td>0.000000</td>\n",
       "      <td>49.000000</td>\n",
       "      <td>475.000000</td>\n",
       "      <td>3583.250000</td>\n",
       "      <td>2.854838e+06</td>\n",
       "    </tr>\n",
       "    <tr>\n",
       "      <th>% of cause-specific deaths</th>\n",
       "      <td>65856.0</td>\n",
       "      <td>100.000000</td>\n",
       "      <td>0.000000</td>\n",
       "      <td>100.000000</td>\n",
       "      <td>100.000000</td>\n",
       "      <td>100.000000</td>\n",
       "      <td>100.000000</td>\n",
       "      <td>1.000000e+02</td>\n",
       "    </tr>\n",
       "    <tr>\n",
       "      <th>Age-standardized death rate</th>\n",
       "      <td>2937.0</td>\n",
       "      <td>555.431544</td>\n",
       "      <td>220.296892</td>\n",
       "      <td>203.363799</td>\n",
       "      <td>396.098031</td>\n",
       "      <td>503.198636</td>\n",
       "      <td>667.346131</td>\n",
       "      <td>1.784888e+03</td>\n",
       "    </tr>\n",
       "    <tr>\n",
       "      <th>Death rate</th>\n",
       "      <td>58200.0</td>\n",
       "      <td>1876.882073</td>\n",
       "      <td>3877.045455</td>\n",
       "      <td>0.000000</td>\n",
       "      <td>62.205125</td>\n",
       "      <td>337.739365</td>\n",
       "      <td>1433.219593</td>\n",
       "      <td>4.500437e+04</td>\n",
       "    </tr>\n",
       "  </tbody>\n",
       "</table>\n",
       "</div>"
      ],
      "text/plain": [
       "                                count          mean           std  \\\n",
       "Year                          65856.0   2013.573342      3.039156   \n",
       "Number                        65556.0  12197.011471  71719.076995   \n",
       "% of cause-specific deaths    65856.0    100.000000      0.000000   \n",
       "Age-standardized death rate    2937.0    555.431544    220.296892   \n",
       "Death rate                    58200.0   1876.882073   3877.045455   \n",
       "\n",
       "                                      min          25%          50%  \\\n",
       "Year                          2009.000000  2011.000000  2013.000000   \n",
       "Number                           0.000000    49.000000   475.000000   \n",
       "% of cause-specific deaths     100.000000   100.000000   100.000000   \n",
       "Age-standardized death rate    203.363799   396.098031   503.198636   \n",
       "Death rate                       0.000000    62.205125   337.739365   \n",
       "\n",
       "                                      75%           max  \n",
       "Year                          2016.000000  2.019000e+03  \n",
       "Number                        3583.250000  2.854838e+06  \n",
       "% of cause-specific deaths     100.000000  1.000000e+02  \n",
       "Age-standardized death rate    667.346131  1.784888e+03  \n",
       "Death rate                    1433.219593  4.500437e+04  "
      ]
     },
     "execution_count": 4,
     "metadata": {},
     "output_type": "execute_result"
    }
   ],
   "source": [
    "#Check the df\n",
    "df_mortality.info()\n",
    "df_mortality.describe().T"
   ]
  },
  {
   "cell_type": "code",
   "execution_count": 5,
   "id": "ea035343",
   "metadata": {
    "scrolled": true
   },
   "outputs": [
    {
     "data": {
      "text/html": [
       "<div>\n",
       "<style scoped>\n",
       "    .dataframe tbody tr th:only-of-type {\n",
       "        vertical-align: middle;\n",
       "    }\n",
       "\n",
       "    .dataframe tbody tr th {\n",
       "        vertical-align: top;\n",
       "    }\n",
       "\n",
       "    .dataframe thead th {\n",
       "        text-align: right;\n",
       "    }\n",
       "</style>\n",
       "<table border=\"1\" class=\"dataframe\">\n",
       "  <thead>\n",
       "    <tr style=\"text-align: right;\">\n",
       "      <th></th>\n",
       "      <th>Region Name</th>\n",
       "      <th>Country Code</th>\n",
       "      <th>Country Name</th>\n",
       "      <th>Year</th>\n",
       "      <th>Sex</th>\n",
       "      <th>Age Group</th>\n",
       "      <th>Number</th>\n",
       "      <th>% of cause-specific deaths</th>\n",
       "      <th>Age-standardized death rate</th>\n",
       "      <th>Death rate</th>\n",
       "    </tr>\n",
       "  </thead>\n",
       "  <tbody>\n",
       "    <tr>\n",
       "      <th>0</th>\n",
       "      <td>Europe</td>\n",
       "      <td>ALB</td>\n",
       "      <td>Albania</td>\n",
       "      <td>2009</td>\n",
       "      <td>All</td>\n",
       "      <td>[All]</td>\n",
       "      <td>15662.0</td>\n",
       "      <td>100</td>\n",
       "      <td>463.339116</td>\n",
       "      <td>534.991710</td>\n",
       "    </tr>\n",
       "    <tr>\n",
       "      <th>1</th>\n",
       "      <td>Europe</td>\n",
       "      <td>ALB</td>\n",
       "      <td>Albania</td>\n",
       "      <td>2009</td>\n",
       "      <td>All</td>\n",
       "      <td>[0]</td>\n",
       "      <td>187.0</td>\n",
       "      <td>100</td>\n",
       "      <td>NaN</td>\n",
       "      <td>528.681688</td>\n",
       "    </tr>\n",
       "    <tr>\n",
       "      <th>2</th>\n",
       "      <td>Europe</td>\n",
       "      <td>ALB</td>\n",
       "      <td>Albania</td>\n",
       "      <td>2009</td>\n",
       "      <td>All</td>\n",
       "      <td>[1-4]</td>\n",
       "      <td>90.0</td>\n",
       "      <td>100</td>\n",
       "      <td>NaN</td>\n",
       "      <td>61.468692</td>\n",
       "    </tr>\n",
       "    <tr>\n",
       "      <th>3</th>\n",
       "      <td>Europe</td>\n",
       "      <td>ALB</td>\n",
       "      <td>Albania</td>\n",
       "      <td>2009</td>\n",
       "      <td>All</td>\n",
       "      <td>[5-9]</td>\n",
       "      <td>60.0</td>\n",
       "      <td>100</td>\n",
       "      <td>NaN</td>\n",
       "      <td>26.593505</td>\n",
       "    </tr>\n",
       "    <tr>\n",
       "      <th>4</th>\n",
       "      <td>Europe</td>\n",
       "      <td>ALB</td>\n",
       "      <td>Albania</td>\n",
       "      <td>2009</td>\n",
       "      <td>All</td>\n",
       "      <td>[10-14]</td>\n",
       "      <td>60.0</td>\n",
       "      <td>100</td>\n",
       "      <td>NaN</td>\n",
       "      <td>22.765042</td>\n",
       "    </tr>\n",
       "  </tbody>\n",
       "</table>\n",
       "</div>"
      ],
      "text/plain": [
       "  Region Name Country Code Country Name  Year  Sex Age Group   Number  \\\n",
       "0      Europe          ALB      Albania  2009  All     [All]  15662.0   \n",
       "1      Europe          ALB      Albania  2009  All       [0]    187.0   \n",
       "2      Europe          ALB      Albania  2009  All     [1-4]     90.0   \n",
       "3      Europe          ALB      Albania  2009  All     [5-9]     60.0   \n",
       "4      Europe          ALB      Albania  2009  All   [10-14]     60.0   \n",
       "\n",
       "   % of cause-specific deaths  Age-standardized death rate   Death rate   \n",
       "0                         100                    463.339116   534.991710  \n",
       "1                         100                           NaN   528.681688  \n",
       "2                         100                           NaN    61.468692  \n",
       "3                         100                           NaN    26.593505  \n",
       "4                         100                           NaN    22.765042  "
      ]
     },
     "execution_count": 5,
     "metadata": {},
     "output_type": "execute_result"
    }
   ],
   "source": [
    "#Check the first 5 rows\n",
    "df_mortality.head()"
   ]
  },
  {
   "cell_type": "code",
   "execution_count": 6,
   "id": "eb313ea2",
   "metadata": {},
   "outputs": [
    {
     "data": {
      "text/plain": [
       "(65856, 10)"
      ]
     },
     "execution_count": 6,
     "metadata": {},
     "output_type": "execute_result"
    }
   ],
   "source": [
    "#Check the number of rows and columns\n",
    "df_mortality.shape"
   ]
  },
  {
   "cell_type": "code",
   "execution_count": 7,
   "id": "986d7399",
   "metadata": {},
   "outputs": [],
   "source": [
    "#Delete special character in \"Age Group\"\n",
    "df_mortality1 =  df_mortality[\"Age Group\"].apply(lambda x: x.replace('[','').replace(']',''))"
   ]
  },
  {
   "cell_type": "code",
   "execution_count": 37,
   "id": "d383f868",
   "metadata": {},
   "outputs": [],
   "source": [
    "df_mortality1 = df_mortality.replace({'[': ''}, inplace=True)"
   ]
  },
  {
   "cell_type": "code",
   "execution_count": 38,
   "id": "dda3ab32",
   "metadata": {},
   "outputs": [
    {
     "ename": "AttributeError",
     "evalue": "'NoneType' object has no attribute 'head'",
     "output_type": "error",
     "traceback": [
      "\u001b[1;31m---------------------------------------------------------------------------\u001b[0m",
      "\u001b[1;31mAttributeError\u001b[0m                            Traceback (most recent call last)",
      "Input \u001b[1;32mIn [38]\u001b[0m, in \u001b[0;36m<cell line: 1>\u001b[1;34m()\u001b[0m\n\u001b[1;32m----> 1\u001b[0m \u001b[43mdf_mortality1\u001b[49m\u001b[38;5;241;43m.\u001b[39;49m\u001b[43mhead\u001b[49m()\n",
      "\u001b[1;31mAttributeError\u001b[0m: 'NoneType' object has no attribute 'head'"
     ]
    }
   ],
   "source": [
    "df_mortality1.head()"
   ]
  },
  {
   "cell_type": "code",
   "execution_count": null,
   "id": "3e5a4ed8",
   "metadata": {},
   "outputs": [],
   "source": []
  },
  {
   "cell_type": "code",
   "execution_count": null,
   "id": "d589dc6f",
   "metadata": {},
   "outputs": [],
   "source": [
    "df_mortality1 = df_mortality.replace('[','', regex=True)"
   ]
  },
  {
   "cell_type": "code",
   "execution_count": 39,
   "id": "bf36337d",
   "metadata": {},
   "outputs": [
    {
     "data": {
      "text/plain": [
       "None"
      ]
     },
     "metadata": {},
     "output_type": "display_data"
    }
   ],
   "source": [
    "display (df_mortality1)"
   ]
  },
  {
   "cell_type": "code",
   "execution_count": 8,
   "id": "cb366a8b",
   "metadata": {
    "scrolled": true
   },
   "outputs": [
    {
     "name": "stdout",
     "output_type": "stream",
     "text": [
      "0            All\n",
      "1              0\n",
      "2            1-4\n",
      "3            5-9\n",
      "4          10-14\n",
      "          ...   \n",
      "65851      70-74\n",
      "65852      75-79\n",
      "65853      80-84\n",
      "65854        85+\n",
      "65855    Unknown\n",
      "Name: Age Group, Length: 65856, dtype: object\n"
     ]
    }
   ],
   "source": [
    "print (df_mortality1)"
   ]
  },
  {
   "cell_type": "markdown",
   "id": "bc1d01ab",
   "metadata": {},
   "source": [
    "## 1.1 Variables and Data Types (Mortality_all causes_age_sex dataset)"
   ]
  },
  {
   "attachments": {
    "image.png": {
     "image/png": "[encoded data removed]"
    }
   },
   "cell_type": "markdown",
   "id": "90f15a80",
   "metadata": {},
   "source": [
    "![image.png](attachment:image.png)"
   ]
  },
  {
   "cell_type": "code",
   "execution_count": 9,
   "id": "28df9e75",
   "metadata": {},
   "outputs": [
    {
     "data": {
      "text/plain": [
       "112"
      ]
     },
     "execution_count": 9,
     "metadata": {},
     "output_type": "execute_result"
    }
   ],
   "source": [
    "#Check the total number of countries\n",
    "df_mortality['Country Name'].nunique()"
   ]
  },
  {
   "cell_type": "code",
   "execution_count": 10,
   "id": "b720048b",
   "metadata": {
    "scrolled": false
   },
   "outputs": [
    {
     "data": {
      "text/plain": [
       "Argentina     924\n",
       "Paraguay      924\n",
       "Nicaragua     924\n",
       "Mexico        924\n",
       "Colombia      924\n",
       "             ... \n",
       "Iraq          126\n",
       "Albania       126\n",
       "Mongolia       63\n",
       "Cabo Verde     63\n",
       "Lebanon        63\n",
       "Name: Country Name, Length: 112, dtype: int64"
      ]
     },
     "execution_count": 10,
     "metadata": {},
     "output_type": "execute_result"
    }
   ],
   "source": [
    "#Check the total number of year data provided for each country\n",
    "df_mortality['Country Name'].value_counts()"
   ]
  },
  {
   "cell_type": "markdown",
   "id": "959141f3",
   "metadata": {},
   "source": [
    "## 02. Data Cleaning and Consistency Check"
   ]
  },
  {
   "cell_type": "code",
   "execution_count": 11,
   "id": "60a813aa",
   "metadata": {},
   "outputs": [],
   "source": [
    "#Rename the columns\n",
    "df_mortality.rename(columns = {'Country Name' : 'Country', 'Country Code' : 'Code','Region Name':'Region', '% of cause-specific deaths': '%_of_cs_deaths'}, inplace = True)"
   ]
  },
  {
   "cell_type": "code",
   "execution_count": 12,
   "id": "041afc94",
   "metadata": {},
   "outputs": [
    {
     "data": {
      "text/html": [
       "<div>\n",
       "<style scoped>\n",
       "    .dataframe tbody tr th:only-of-type {\n",
       "        vertical-align: middle;\n",
       "    }\n",
       "\n",
       "    .dataframe tbody tr th {\n",
       "        vertical-align: top;\n",
       "    }\n",
       "\n",
       "    .dataframe thead th {\n",
       "        text-align: right;\n",
       "    }\n",
       "</style>\n",
       "<table border=\"1\" class=\"dataframe\">\n",
       "  <thead>\n",
       "    <tr style=\"text-align: right;\">\n",
       "      <th></th>\n",
       "      <th>Region</th>\n",
       "      <th>Code</th>\n",
       "      <th>Country</th>\n",
       "      <th>Year</th>\n",
       "      <th>Sex</th>\n",
       "      <th>Age Group</th>\n",
       "      <th>Number</th>\n",
       "      <th>%_of_cs_deaths</th>\n",
       "      <th>Age-standardized death rate</th>\n",
       "      <th>Death rate</th>\n",
       "    </tr>\n",
       "  </thead>\n",
       "  <tbody>\n",
       "    <tr>\n",
       "      <th>0</th>\n",
       "      <td>Europe</td>\n",
       "      <td>ALB</td>\n",
       "      <td>Albania</td>\n",
       "      <td>2009</td>\n",
       "      <td>All</td>\n",
       "      <td>[All]</td>\n",
       "      <td>15662.0</td>\n",
       "      <td>100</td>\n",
       "      <td>463.339116</td>\n",
       "      <td>534.991710</td>\n",
       "    </tr>\n",
       "    <tr>\n",
       "      <th>1</th>\n",
       "      <td>Europe</td>\n",
       "      <td>ALB</td>\n",
       "      <td>Albania</td>\n",
       "      <td>2009</td>\n",
       "      <td>All</td>\n",
       "      <td>[0]</td>\n",
       "      <td>187.0</td>\n",
       "      <td>100</td>\n",
       "      <td>NaN</td>\n",
       "      <td>528.681688</td>\n",
       "    </tr>\n",
       "    <tr>\n",
       "      <th>2</th>\n",
       "      <td>Europe</td>\n",
       "      <td>ALB</td>\n",
       "      <td>Albania</td>\n",
       "      <td>2009</td>\n",
       "      <td>All</td>\n",
       "      <td>[1-4]</td>\n",
       "      <td>90.0</td>\n",
       "      <td>100</td>\n",
       "      <td>NaN</td>\n",
       "      <td>61.468692</td>\n",
       "    </tr>\n",
       "    <tr>\n",
       "      <th>3</th>\n",
       "      <td>Europe</td>\n",
       "      <td>ALB</td>\n",
       "      <td>Albania</td>\n",
       "      <td>2009</td>\n",
       "      <td>All</td>\n",
       "      <td>[5-9]</td>\n",
       "      <td>60.0</td>\n",
       "      <td>100</td>\n",
       "      <td>NaN</td>\n",
       "      <td>26.593505</td>\n",
       "    </tr>\n",
       "    <tr>\n",
       "      <th>4</th>\n",
       "      <td>Europe</td>\n",
       "      <td>ALB</td>\n",
       "      <td>Albania</td>\n",
       "      <td>2009</td>\n",
       "      <td>All</td>\n",
       "      <td>[10-14]</td>\n",
       "      <td>60.0</td>\n",
       "      <td>100</td>\n",
       "      <td>NaN</td>\n",
       "      <td>22.765042</td>\n",
       "    </tr>\n",
       "  </tbody>\n",
       "</table>\n",
       "</div>"
      ],
      "text/plain": [
       "   Region Code  Country  Year  Sex Age Group   Number  %_of_cs_deaths  \\\n",
       "0  Europe  ALB  Albania  2009  All     [All]  15662.0             100   \n",
       "1  Europe  ALB  Albania  2009  All       [0]    187.0             100   \n",
       "2  Europe  ALB  Albania  2009  All     [1-4]     90.0             100   \n",
       "3  Europe  ALB  Albania  2009  All     [5-9]     60.0             100   \n",
       "4  Europe  ALB  Albania  2009  All   [10-14]     60.0             100   \n",
       "\n",
       "   Age-standardized death rate   Death rate   \n",
       "0                    463.339116   534.991710  \n",
       "1                           NaN   528.681688  \n",
       "2                           NaN    61.468692  \n",
       "3                           NaN    26.593505  \n",
       "4                           NaN    22.765042  "
      ]
     },
     "execution_count": 12,
     "metadata": {},
     "output_type": "execute_result"
    }
   ],
   "source": [
    "df_mortality.head()"
   ]
  },
  {
   "cell_type": "code",
   "execution_count": 13,
   "id": "3baead75",
   "metadata": {},
   "outputs": [],
   "source": [
    "df_mortality2 = df_mortality.rename(columns=lambda x: x.replace(\"-\",\"_\"))"
   ]
  },
  {
   "cell_type": "code",
   "execution_count": 14,
   "id": "ff50dfe2",
   "metadata": {
    "scrolled": true
   },
   "outputs": [
    {
     "data": {
      "text/html": [
       "<div>\n",
       "<style scoped>\n",
       "    .dataframe tbody tr th:only-of-type {\n",
       "        vertical-align: middle;\n",
       "    }\n",
       "\n",
       "    .dataframe tbody tr th {\n",
       "        vertical-align: top;\n",
       "    }\n",
       "\n",
       "    .dataframe thead th {\n",
       "        text-align: right;\n",
       "    }\n",
       "</style>\n",
       "<table border=\"1\" class=\"dataframe\">\n",
       "  <thead>\n",
       "    <tr style=\"text-align: right;\">\n",
       "      <th></th>\n",
       "      <th>Region</th>\n",
       "      <th>Code</th>\n",
       "      <th>Country</th>\n",
       "      <th>Year</th>\n",
       "      <th>Sex</th>\n",
       "      <th>Age Group</th>\n",
       "      <th>Number</th>\n",
       "      <th>%_of_cs_deaths</th>\n",
       "      <th>Age_standardized death rate</th>\n",
       "      <th>Death rate</th>\n",
       "    </tr>\n",
       "  </thead>\n",
       "  <tbody>\n",
       "    <tr>\n",
       "      <th>0</th>\n",
       "      <td>Europe</td>\n",
       "      <td>ALB</td>\n",
       "      <td>Albania</td>\n",
       "      <td>2009</td>\n",
       "      <td>All</td>\n",
       "      <td>[All]</td>\n",
       "      <td>15662.0</td>\n",
       "      <td>100</td>\n",
       "      <td>463.339116</td>\n",
       "      <td>534.991710</td>\n",
       "    </tr>\n",
       "    <tr>\n",
       "      <th>1</th>\n",
       "      <td>Europe</td>\n",
       "      <td>ALB</td>\n",
       "      <td>Albania</td>\n",
       "      <td>2009</td>\n",
       "      <td>All</td>\n",
       "      <td>[0]</td>\n",
       "      <td>187.0</td>\n",
       "      <td>100</td>\n",
       "      <td>NaN</td>\n",
       "      <td>528.681688</td>\n",
       "    </tr>\n",
       "    <tr>\n",
       "      <th>2</th>\n",
       "      <td>Europe</td>\n",
       "      <td>ALB</td>\n",
       "      <td>Albania</td>\n",
       "      <td>2009</td>\n",
       "      <td>All</td>\n",
       "      <td>[1-4]</td>\n",
       "      <td>90.0</td>\n",
       "      <td>100</td>\n",
       "      <td>NaN</td>\n",
       "      <td>61.468692</td>\n",
       "    </tr>\n",
       "    <tr>\n",
       "      <th>3</th>\n",
       "      <td>Europe</td>\n",
       "      <td>ALB</td>\n",
       "      <td>Albania</td>\n",
       "      <td>2009</td>\n",
       "      <td>All</td>\n",
       "      <td>[5-9]</td>\n",
       "      <td>60.0</td>\n",
       "      <td>100</td>\n",
       "      <td>NaN</td>\n",
       "      <td>26.593505</td>\n",
       "    </tr>\n",
       "    <tr>\n",
       "      <th>4</th>\n",
       "      <td>Europe</td>\n",
       "      <td>ALB</td>\n",
       "      <td>Albania</td>\n",
       "      <td>2009</td>\n",
       "      <td>All</td>\n",
       "      <td>[10-14]</td>\n",
       "      <td>60.0</td>\n",
       "      <td>100</td>\n",
       "      <td>NaN</td>\n",
       "      <td>22.765042</td>\n",
       "    </tr>\n",
       "  </tbody>\n",
       "</table>\n",
       "</div>"
      ],
      "text/plain": [
       "   Region Code  Country  Year  Sex Age Group   Number  %_of_cs_deaths  \\\n",
       "0  Europe  ALB  Albania  2009  All     [All]  15662.0             100   \n",
       "1  Europe  ALB  Albania  2009  All       [0]    187.0             100   \n",
       "2  Europe  ALB  Albania  2009  All     [1-4]     90.0             100   \n",
       "3  Europe  ALB  Albania  2009  All     [5-9]     60.0             100   \n",
       "4  Europe  ALB  Albania  2009  All   [10-14]     60.0             100   \n",
       "\n",
       "   Age_standardized death rate   Death rate   \n",
       "0                    463.339116   534.991710  \n",
       "1                           NaN   528.681688  \n",
       "2                           NaN    61.468692  \n",
       "3                           NaN    26.593505  \n",
       "4                           NaN    22.765042  "
      ]
     },
     "execution_count": 14,
     "metadata": {},
     "output_type": "execute_result"
    }
   ],
   "source": [
    "df_mortality2.head()"
   ]
  },
  {
   "cell_type": "code",
   "execution_count": 15,
   "id": "bf44346c",
   "metadata": {},
   "outputs": [],
   "source": [
    "# Drop column of index using DataFrame.drop() method\n",
    "df_mortality2 = df_mortality2.drop(df_mortality2.columns[[7, 8, 9]],axis = 1)"
   ]
  },
  {
   "cell_type": "code",
   "execution_count": 16,
   "id": "93ff0bc5",
   "metadata": {},
   "outputs": [
    {
     "data": {
      "text/html": [
       "<div>\n",
       "<style scoped>\n",
       "    .dataframe tbody tr th:only-of-type {\n",
       "        vertical-align: middle;\n",
       "    }\n",
       "\n",
       "    .dataframe tbody tr th {\n",
       "        vertical-align: top;\n",
       "    }\n",
       "\n",
       "    .dataframe thead th {\n",
       "        text-align: right;\n",
       "    }\n",
       "</style>\n",
       "<table border=\"1\" class=\"dataframe\">\n",
       "  <thead>\n",
       "    <tr style=\"text-align: right;\">\n",
       "      <th></th>\n",
       "      <th>Region</th>\n",
       "      <th>Code</th>\n",
       "      <th>Country</th>\n",
       "      <th>Year</th>\n",
       "      <th>Sex</th>\n",
       "      <th>Age Group</th>\n",
       "      <th>Number</th>\n",
       "    </tr>\n",
       "  </thead>\n",
       "  <tbody>\n",
       "    <tr>\n",
       "      <th>0</th>\n",
       "      <td>Europe</td>\n",
       "      <td>ALB</td>\n",
       "      <td>Albania</td>\n",
       "      <td>2009</td>\n",
       "      <td>All</td>\n",
       "      <td>[All]</td>\n",
       "      <td>15662.0</td>\n",
       "    </tr>\n",
       "    <tr>\n",
       "      <th>1</th>\n",
       "      <td>Europe</td>\n",
       "      <td>ALB</td>\n",
       "      <td>Albania</td>\n",
       "      <td>2009</td>\n",
       "      <td>All</td>\n",
       "      <td>[0]</td>\n",
       "      <td>187.0</td>\n",
       "    </tr>\n",
       "    <tr>\n",
       "      <th>2</th>\n",
       "      <td>Europe</td>\n",
       "      <td>ALB</td>\n",
       "      <td>Albania</td>\n",
       "      <td>2009</td>\n",
       "      <td>All</td>\n",
       "      <td>[1-4]</td>\n",
       "      <td>90.0</td>\n",
       "    </tr>\n",
       "    <tr>\n",
       "      <th>3</th>\n",
       "      <td>Europe</td>\n",
       "      <td>ALB</td>\n",
       "      <td>Albania</td>\n",
       "      <td>2009</td>\n",
       "      <td>All</td>\n",
       "      <td>[5-9]</td>\n",
       "      <td>60.0</td>\n",
       "    </tr>\n",
       "    <tr>\n",
       "      <th>4</th>\n",
       "      <td>Europe</td>\n",
       "      <td>ALB</td>\n",
       "      <td>Albania</td>\n",
       "      <td>2009</td>\n",
       "      <td>All</td>\n",
       "      <td>[10-14]</td>\n",
       "      <td>60.0</td>\n",
       "    </tr>\n",
       "  </tbody>\n",
       "</table>\n",
       "</div>"
      ],
      "text/plain": [
       "   Region Code  Country  Year  Sex Age Group   Number\n",
       "0  Europe  ALB  Albania  2009  All     [All]  15662.0\n",
       "1  Europe  ALB  Albania  2009  All       [0]    187.0\n",
       "2  Europe  ALB  Albania  2009  All     [1-4]     90.0\n",
       "3  Europe  ALB  Albania  2009  All     [5-9]     60.0\n",
       "4  Europe  ALB  Albania  2009  All   [10-14]     60.0"
      ]
     },
     "execution_count": 16,
     "metadata": {},
     "output_type": "execute_result"
    }
   ],
   "source": [
    "df_mortality2.head()"
   ]
  },
  {
   "cell_type": "code",
   "execution_count": 17,
   "id": "3df83836",
   "metadata": {},
   "outputs": [
    {
     "data": {
      "text/html": [
       "<div>\n",
       "<style scoped>\n",
       "    .dataframe tbody tr th:only-of-type {\n",
       "        vertical-align: middle;\n",
       "    }\n",
       "\n",
       "    .dataframe tbody tr th {\n",
       "        vertical-align: top;\n",
       "    }\n",
       "\n",
       "    .dataframe thead th {\n",
       "        text-align: right;\n",
       "    }\n",
       "</style>\n",
       "<table border=\"1\" class=\"dataframe\">\n",
       "  <thead>\n",
       "    <tr style=\"text-align: right;\">\n",
       "      <th></th>\n",
       "      <th>Region</th>\n",
       "      <th>Code</th>\n",
       "      <th>Country</th>\n",
       "      <th>Year</th>\n",
       "      <th>Sex</th>\n",
       "      <th>Age Group</th>\n",
       "      <th>Number</th>\n",
       "    </tr>\n",
       "  </thead>\n",
       "  <tbody>\n",
       "    <tr>\n",
       "      <th>0</th>\n",
       "      <td>Europe</td>\n",
       "      <td>ALB</td>\n",
       "      <td>Albania</td>\n",
       "      <td>2009</td>\n",
       "      <td>All</td>\n",
       "      <td>[All]</td>\n",
       "      <td>15662.0</td>\n",
       "    </tr>\n",
       "    <tr>\n",
       "      <th>1</th>\n",
       "      <td>Europe</td>\n",
       "      <td>ALB</td>\n",
       "      <td>Albania</td>\n",
       "      <td>2009</td>\n",
       "      <td>All</td>\n",
       "      <td>[0]</td>\n",
       "      <td>187.0</td>\n",
       "    </tr>\n",
       "    <tr>\n",
       "      <th>2</th>\n",
       "      <td>Europe</td>\n",
       "      <td>ALB</td>\n",
       "      <td>Albania</td>\n",
       "      <td>2009</td>\n",
       "      <td>All</td>\n",
       "      <td>[1-4]</td>\n",
       "      <td>90.0</td>\n",
       "    </tr>\n",
       "    <tr>\n",
       "      <th>3</th>\n",
       "      <td>Europe</td>\n",
       "      <td>ALB</td>\n",
       "      <td>Albania</td>\n",
       "      <td>2009</td>\n",
       "      <td>All</td>\n",
       "      <td>[5-9]</td>\n",
       "      <td>60.0</td>\n",
       "    </tr>\n",
       "    <tr>\n",
       "      <th>4</th>\n",
       "      <td>Europe</td>\n",
       "      <td>ALB</td>\n",
       "      <td>Albania</td>\n",
       "      <td>2009</td>\n",
       "      <td>All</td>\n",
       "      <td>[10-14]</td>\n",
       "      <td>60.0</td>\n",
       "    </tr>\n",
       "    <tr>\n",
       "      <th>...</th>\n",
       "      <td>...</td>\n",
       "      <td>...</td>\n",
       "      <td>...</td>\n",
       "      <td>...</td>\n",
       "      <td>...</td>\n",
       "      <td>...</td>\n",
       "      <td>...</td>\n",
       "    </tr>\n",
       "    <tr>\n",
       "      <th>65851</th>\n",
       "      <td>Europe</td>\n",
       "      <td>GBR</td>\n",
       "      <td>United Kingdom</td>\n",
       "      <td>2019</td>\n",
       "      <td>Female</td>\n",
       "      <td>[70-74]</td>\n",
       "      <td>26082.0</td>\n",
       "    </tr>\n",
       "    <tr>\n",
       "      <th>65852</th>\n",
       "      <td>Europe</td>\n",
       "      <td>GBR</td>\n",
       "      <td>United Kingdom</td>\n",
       "      <td>2019</td>\n",
       "      <td>Female</td>\n",
       "      <td>[75-79]</td>\n",
       "      <td>33213.0</td>\n",
       "    </tr>\n",
       "    <tr>\n",
       "      <th>65853</th>\n",
       "      <td>Europe</td>\n",
       "      <td>GBR</td>\n",
       "      <td>United Kingdom</td>\n",
       "      <td>2019</td>\n",
       "      <td>Female</td>\n",
       "      <td>[80-84]</td>\n",
       "      <td>47413.0</td>\n",
       "    </tr>\n",
       "    <tr>\n",
       "      <th>65854</th>\n",
       "      <td>Europe</td>\n",
       "      <td>GBR</td>\n",
       "      <td>United Kingdom</td>\n",
       "      <td>2019</td>\n",
       "      <td>Female</td>\n",
       "      <td>[85+]</td>\n",
       "      <td>141998.0</td>\n",
       "    </tr>\n",
       "    <tr>\n",
       "      <th>65855</th>\n",
       "      <td>Europe</td>\n",
       "      <td>GBR</td>\n",
       "      <td>United Kingdom</td>\n",
       "      <td>2019</td>\n",
       "      <td>Female</td>\n",
       "      <td>[Unknown]</td>\n",
       "      <td>0.0</td>\n",
       "    </tr>\n",
       "  </tbody>\n",
       "</table>\n",
       "<p>65856 rows × 7 columns</p>\n",
       "</div>"
      ],
      "text/plain": [
       "       Region Code         Country  Year     Sex  Age Group    Number\n",
       "0      Europe  ALB         Albania  2009     All      [All]   15662.0\n",
       "1      Europe  ALB         Albania  2009     All        [0]     187.0\n",
       "2      Europe  ALB         Albania  2009     All      [1-4]      90.0\n",
       "3      Europe  ALB         Albania  2009     All      [5-9]      60.0\n",
       "4      Europe  ALB         Albania  2009     All    [10-14]      60.0\n",
       "...       ...  ...             ...   ...     ...        ...       ...\n",
       "65851  Europe  GBR  United Kingdom  2019  Female    [70-74]   26082.0\n",
       "65852  Europe  GBR  United Kingdom  2019  Female    [75-79]   33213.0\n",
       "65853  Europe  GBR  United Kingdom  2019  Female    [80-84]   47413.0\n",
       "65854  Europe  GBR  United Kingdom  2019  Female      [85+]  141998.0\n",
       "65855  Europe  GBR  United Kingdom  2019  Female  [Unknown]       0.0\n",
       "\n",
       "[65856 rows x 7 columns]"
      ]
     },
     "execution_count": 17,
     "metadata": {},
     "output_type": "execute_result"
    }
   ],
   "source": [
    "df_mortality2"
   ]
  },
  {
   "cell_type": "markdown",
   "id": "a61ab912",
   "metadata": {},
   "source": [
    "## 2.1 Find Missing Values"
   ]
  },
  {
   "cell_type": "code",
   "execution_count": 18,
   "id": "387361af",
   "metadata": {},
   "outputs": [
    {
     "data": {
      "text/plain": [
       "Region         0\n",
       "Code           0\n",
       "Country        0\n",
       "Year           0\n",
       "Sex            0\n",
       "Age Group      0\n",
       "Number       300\n",
       "dtype: int64"
      ]
     },
     "execution_count": 18,
     "metadata": {},
     "output_type": "execute_result"
    }
   ],
   "source": [
    "#Check for null values\n",
    "df_mortality2.isnull().sum()"
   ]
  },
  {
   "cell_type": "markdown",
   "id": "a8f160b4",
   "metadata": {},
   "source": [
    "Remove only 300 missing Number of deaths values, as the amount is not significant"
   ]
  },
  {
   "cell_type": "code",
   "execution_count": 19,
   "id": "ff73299e",
   "metadata": {},
   "outputs": [],
   "source": [
    "df_mortality2.dropna(subset = ['Number'], inplace = True)"
   ]
  },
  {
   "cell_type": "code",
   "execution_count": 20,
   "id": "b8f08edf",
   "metadata": {},
   "outputs": [
    {
     "data": {
      "text/plain": [
       "(65556, 7)"
      ]
     },
     "execution_count": 20,
     "metadata": {},
     "output_type": "execute_result"
    }
   ],
   "source": [
    "df_mortality2.shape"
   ]
  },
  {
   "cell_type": "code",
   "execution_count": 21,
   "id": "829ba251",
   "metadata": {},
   "outputs": [
    {
     "name": "stdout",
     "output_type": "stream",
     "text": [
      "<class 'pandas.core.frame.DataFrame'>\n",
      "Int64Index: 65556 entries, 0 to 65855\n",
      "Data columns (total 7 columns):\n",
      " #   Column     Non-Null Count  Dtype  \n",
      "---  ------     --------------  -----  \n",
      " 0   Region     65556 non-null  object \n",
      " 1   Code       65556 non-null  object \n",
      " 2   Country    65556 non-null  object \n",
      " 3   Year       65556 non-null  int64  \n",
      " 4   Sex        65556 non-null  object \n",
      " 5   Age Group  65556 non-null  object \n",
      " 6   Number     65556 non-null  float64\n",
      "dtypes: float64(1), int64(1), object(5)\n",
      "memory usage: 4.0+ MB\n"
     ]
    }
   ],
   "source": [
    "df_mortality2.info()"
   ]
  },
  {
   "cell_type": "code",
   "execution_count": 22,
   "id": "e2c31891",
   "metadata": {},
   "outputs": [
    {
     "name": "stdout",
     "output_type": "stream",
     "text": [
      "       Region Code         Country  Year     Sex  Age Group    Number\n",
      "0      Europe  ALB         Albania  2009     All      [All]   15662.0\n",
      "1      Europe  ALB         Albania  2009     All        [0]     187.0\n",
      "2      Europe  ALB         Albania  2009     All      [1-4]      90.0\n",
      "3      Europe  ALB         Albania  2009     All      [5-9]      60.0\n",
      "4      Europe  ALB         Albania  2009     All    [10-14]      60.0\n",
      "...       ...  ...             ...   ...     ...        ...       ...\n",
      "65851  Europe  GBR  United Kingdom  2019  Female    [70-74]   26082.0\n",
      "65852  Europe  GBR  United Kingdom  2019  Female    [75-79]   33213.0\n",
      "65853  Europe  GBR  United Kingdom  2019  Female    [80-84]   47413.0\n",
      "65854  Europe  GBR  United Kingdom  2019  Female      [85+]  141998.0\n",
      "65855  Europe  GBR  United Kingdom  2019  Female  [Unknown]       0.0\n",
      "\n",
      "[65556 rows x 7 columns]\n"
     ]
    }
   ],
   "source": [
    "print(df_mortality2)"
   ]
  },
  {
   "cell_type": "code",
   "execution_count": 23,
   "id": "d6a068c8",
   "metadata": {},
   "outputs": [
    {
     "data": {
      "text/html": [
       "<div>\n",
       "<style scoped>\n",
       "    .dataframe tbody tr th:only-of-type {\n",
       "        vertical-align: middle;\n",
       "    }\n",
       "\n",
       "    .dataframe tbody tr th {\n",
       "        vertical-align: top;\n",
       "    }\n",
       "\n",
       "    .dataframe thead th {\n",
       "        text-align: right;\n",
       "    }\n",
       "</style>\n",
       "<table border=\"1\" class=\"dataframe\">\n",
       "  <thead>\n",
       "    <tr style=\"text-align: right;\">\n",
       "      <th></th>\n",
       "      <th>Region</th>\n",
       "      <th>Code</th>\n",
       "      <th>Country</th>\n",
       "      <th>Year</th>\n",
       "      <th>Sex</th>\n",
       "      <th>Age Group</th>\n",
       "      <th>Number</th>\n",
       "    </tr>\n",
       "  </thead>\n",
       "  <tbody>\n",
       "    <tr>\n",
       "      <th>0</th>\n",
       "      <td>Europe</td>\n",
       "      <td>ALB</td>\n",
       "      <td>Albania</td>\n",
       "      <td>2009</td>\n",
       "      <td>All</td>\n",
       "      <td>[All]</td>\n",
       "      <td>15662.0</td>\n",
       "    </tr>\n",
       "    <tr>\n",
       "      <th>1</th>\n",
       "      <td>Europe</td>\n",
       "      <td>ALB</td>\n",
       "      <td>Albania</td>\n",
       "      <td>2009</td>\n",
       "      <td>All</td>\n",
       "      <td>[0]</td>\n",
       "      <td>187.0</td>\n",
       "    </tr>\n",
       "    <tr>\n",
       "      <th>2</th>\n",
       "      <td>Europe</td>\n",
       "      <td>ALB</td>\n",
       "      <td>Albania</td>\n",
       "      <td>2009</td>\n",
       "      <td>All</td>\n",
       "      <td>[1-4]</td>\n",
       "      <td>90.0</td>\n",
       "    </tr>\n",
       "    <tr>\n",
       "      <th>3</th>\n",
       "      <td>Europe</td>\n",
       "      <td>ALB</td>\n",
       "      <td>Albania</td>\n",
       "      <td>2009</td>\n",
       "      <td>All</td>\n",
       "      <td>[5-9]</td>\n",
       "      <td>60.0</td>\n",
       "    </tr>\n",
       "    <tr>\n",
       "      <th>4</th>\n",
       "      <td>Europe</td>\n",
       "      <td>ALB</td>\n",
       "      <td>Albania</td>\n",
       "      <td>2009</td>\n",
       "      <td>All</td>\n",
       "      <td>[10-14]</td>\n",
       "      <td>60.0</td>\n",
       "    </tr>\n",
       "  </tbody>\n",
       "</table>\n",
       "</div>"
      ],
      "text/plain": [
       "   Region Code  Country  Year  Sex Age Group   Number\n",
       "0  Europe  ALB  Albania  2009  All     [All]  15662.0\n",
       "1  Europe  ALB  Albania  2009  All       [0]    187.0\n",
       "2  Europe  ALB  Albania  2009  All     [1-4]     90.0\n",
       "3  Europe  ALB  Albania  2009  All     [5-9]     60.0\n",
       "4  Europe  ALB  Albania  2009  All   [10-14]     60.0"
      ]
     },
     "execution_count": 23,
     "metadata": {},
     "output_type": "execute_result"
    }
   ],
   "source": [
    "df_mortality2.head()"
   ]
  },
  {
   "cell_type": "markdown",
   "id": "b3edbe9e",
   "metadata": {},
   "source": [
    "## 2.2 Find Duplicates"
   ]
  },
  {
   "cell_type": "code",
   "execution_count": 24,
   "id": "f29d9daa",
   "metadata": {},
   "outputs": [],
   "source": [
    "#Check for duplicates\n",
    "df_dups = df_mortality[df_mortality.duplicated()]"
   ]
  },
  {
   "cell_type": "code",
   "execution_count": 25,
   "id": "ca04d85a",
   "metadata": {},
   "outputs": [],
   "source": [
    "df_mortality_no_dups = df_mortality.drop_duplicates()"
   ]
  },
  {
   "cell_type": "code",
   "execution_count": 26,
   "id": "c7757fe4",
   "metadata": {},
   "outputs": [
    {
     "data": {
      "text/plain": [
       "(65856, 10)"
      ]
     },
     "execution_count": 26,
     "metadata": {},
     "output_type": "execute_result"
    }
   ],
   "source": [
    "df_mortality_no_dups.shape"
   ]
  },
  {
   "cell_type": "markdown",
   "id": "d93171e5",
   "metadata": {},
   "source": [
    "No duplicates"
   ]
  },
  {
   "cell_type": "markdown",
   "id": "3730f98a",
   "metadata": {},
   "source": [
    "## 2.3 Find Mixed-Type Values"
   ]
  },
  {
   "cell_type": "code",
   "execution_count": 27,
   "id": "01a1a5e0",
   "metadata": {},
   "outputs": [],
   "source": [
    "#Check for mixed data type\n",
    "for col in df_mortality2.columns.tolist():\n",
    "  weird = (df_mortality2[[col]].applymap(type) != df_mortality2[[col]].iloc[0].apply(type)).any(axis = 1)\n",
    "  if len (df_mortality2[weird]) > 0:\n",
    "    print (col)"
   ]
  },
  {
   "cell_type": "code",
   "execution_count": 28,
   "id": "f3eed0e2",
   "metadata": {},
   "outputs": [
    {
     "data": {
      "text/plain": [
       "(65556, 7)"
      ]
     },
     "execution_count": 28,
     "metadata": {},
     "output_type": "execute_result"
    }
   ],
   "source": [
    "df_mortality2.shape"
   ]
  },
  {
   "cell_type": "code",
   "execution_count": 29,
   "id": "d3c701ff",
   "metadata": {},
   "outputs": [
    {
     "data": {
      "text/html": [
       "<div>\n",
       "<style scoped>\n",
       "    .dataframe tbody tr th:only-of-type {\n",
       "        vertical-align: middle;\n",
       "    }\n",
       "\n",
       "    .dataframe tbody tr th {\n",
       "        vertical-align: top;\n",
       "    }\n",
       "\n",
       "    .dataframe thead th {\n",
       "        text-align: right;\n",
       "    }\n",
       "</style>\n",
       "<table border=\"1\" class=\"dataframe\">\n",
       "  <thead>\n",
       "    <tr style=\"text-align: right;\">\n",
       "      <th></th>\n",
       "      <th>Region</th>\n",
       "      <th>Code</th>\n",
       "      <th>Country</th>\n",
       "      <th>Year</th>\n",
       "      <th>Sex</th>\n",
       "      <th>Age Group</th>\n",
       "      <th>Number</th>\n",
       "    </tr>\n",
       "  </thead>\n",
       "  <tbody>\n",
       "    <tr>\n",
       "      <th>0</th>\n",
       "      <td>Europe</td>\n",
       "      <td>ALB</td>\n",
       "      <td>Albania</td>\n",
       "      <td>2009</td>\n",
       "      <td>All</td>\n",
       "      <td>[All]</td>\n",
       "      <td>15662.0</td>\n",
       "    </tr>\n",
       "    <tr>\n",
       "      <th>1</th>\n",
       "      <td>Europe</td>\n",
       "      <td>ALB</td>\n",
       "      <td>Albania</td>\n",
       "      <td>2009</td>\n",
       "      <td>All</td>\n",
       "      <td>[0]</td>\n",
       "      <td>187.0</td>\n",
       "    </tr>\n",
       "    <tr>\n",
       "      <th>2</th>\n",
       "      <td>Europe</td>\n",
       "      <td>ALB</td>\n",
       "      <td>Albania</td>\n",
       "      <td>2009</td>\n",
       "      <td>All</td>\n",
       "      <td>[1-4]</td>\n",
       "      <td>90.0</td>\n",
       "    </tr>\n",
       "    <tr>\n",
       "      <th>3</th>\n",
       "      <td>Europe</td>\n",
       "      <td>ALB</td>\n",
       "      <td>Albania</td>\n",
       "      <td>2009</td>\n",
       "      <td>All</td>\n",
       "      <td>[5-9]</td>\n",
       "      <td>60.0</td>\n",
       "    </tr>\n",
       "    <tr>\n",
       "      <th>4</th>\n",
       "      <td>Europe</td>\n",
       "      <td>ALB</td>\n",
       "      <td>Albania</td>\n",
       "      <td>2009</td>\n",
       "      <td>All</td>\n",
       "      <td>[10-14]</td>\n",
       "      <td>60.0</td>\n",
       "    </tr>\n",
       "  </tbody>\n",
       "</table>\n",
       "</div>"
      ],
      "text/plain": [
       "   Region Code  Country  Year  Sex Age Group   Number\n",
       "0  Europe  ALB  Albania  2009  All     [All]  15662.0\n",
       "1  Europe  ALB  Albania  2009  All       [0]    187.0\n",
       "2  Europe  ALB  Albania  2009  All     [1-4]     90.0\n",
       "3  Europe  ALB  Albania  2009  All     [5-9]     60.0\n",
       "4  Europe  ALB  Albania  2009  All   [10-14]     60.0"
      ]
     },
     "execution_count": 29,
     "metadata": {},
     "output_type": "execute_result"
    }
   ],
   "source": [
    "df_mortality2.head()"
   ]
  },
  {
   "cell_type": "markdown",
   "id": "de66a77d",
   "metadata": {},
   "source": [
    "## 3. Export Mortality_all causes_age_sex dataframe"
   ]
  },
  {
   "cell_type": "code",
   "execution_count": 30,
   "id": "7ae34e38",
   "metadata": {},
   "outputs": [],
   "source": [
    "df_mortality2.to_csv(os.path.join(path,'Data','Prepared Data','mortality_cleaned.csv'))"
   ]
  }
 ],
 "metadata": {
  "kernelspec": {
   "display_name": "Python 3 (ipykernel)",
   "language": "python",
   "name": "python3"
  },
  "language_info": {
   "codemirror_mode": {
    "name": "ipython",
    "version": 3
   },
   "file_extension": ".py",
   "mimetype": "text/x-python",
   "name": "python",
   "nbconvert_exporter": "python",
   "pygments_lexer": "ipython3",
   "version": "3.9.12"
  }
 },
 "nbformat": 4,
 "nbformat_minor": 5
}
