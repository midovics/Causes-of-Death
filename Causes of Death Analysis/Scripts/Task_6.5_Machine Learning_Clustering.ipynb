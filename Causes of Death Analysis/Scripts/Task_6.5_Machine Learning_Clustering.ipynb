{
 "cells": [
  {
   "cell_type": "markdown",
   "id": "3e4e349a",
   "metadata": {},
   "source": [
    "# 6.5 Machine Learning Part 2"
   ]
  },
  {
   "cell_type": "markdown",
   "id": "f84e3bed",
   "metadata": {},
   "source": [
    "## Contents:\n",
    "\n",
    "#### 1. Importing libraries and data and data preprocessing\n",
    "#### 2. Standardizing Data\n",
    "#### 3. The elbow technique\n",
    "#### 4. K-means clustering"
   ]
  },
  {
   "cell_type": "markdown",
   "id": "d2162d27",
   "metadata": {},
   "source": [
    "## 1. Importing libraries and data and data preprocessing"
   ]
  },
  {
   "cell_type": "code",
   "execution_count": 1,
   "id": "8ba697e5",
   "metadata": {},
   "outputs": [],
   "source": [
    "import pandas as pd\n",
    "import numpy as np\n",
    "import seaborn as sns\n",
    "import matplotlib\n",
    "import matplotlib.pyplot as plt\n",
    "import os\n",
    "import sklearn\n",
    "from sklearn.cluster import KMeans\n",
    "import pylab as pl\n",
    "from sklearn.preprocessing import StandardScaler\n",
    "from sklearn.decomposition import PCA\n",
    "import plotly.express as px"
   ]
  },
  {
   "cell_type": "code",
   "execution_count": 2,
   "id": "7cf311aa",
   "metadata": {},
   "outputs": [],
   "source": [
    "#Display the graph without the need to \"call\" it specifically\n",
    "%matplotlib inline"
   ]
  },
  {
   "cell_type": "code",
   "execution_count": 3,
   "id": "498a7e67",
   "metadata": {},
   "outputs": [],
   "source": [
    "path = 'C:/Users/midov/Documents/Studies/Data Analysis/Immersion into Data Analytics/Achievement 6_Advanced Analytics & Dashboard Design/Causes of Death Analysis'"
   ]
  },
  {
   "cell_type": "code",
   "execution_count": 4,
   "id": "08a659a2",
   "metadata": {},
   "outputs": [],
   "source": [
    "#Import data \n",
    "df = pd.read_csv(os.path.join(path, 'Data', 'Prepared Data','df_merged_all3.csv'))"
   ]
  },
  {
   "cell_type": "code",
   "execution_count": 5,
   "id": "a0b37bfd",
   "metadata": {},
   "outputs": [
    {
     "data": {
      "text/plain": [
       "(6771, 41)"
      ]
     },
     "execution_count": 5,
     "metadata": {},
     "output_type": "execute_result"
    }
   ],
   "source": [
    "df.shape"
   ]
  },
  {
   "cell_type": "code",
   "execution_count": 6,
   "id": "013df714",
   "metadata": {
    "scrolled": true
   },
   "outputs": [
    {
     "data": {
      "text/html": [
       "<div>\n",
       "<style scoped>\n",
       "    .dataframe tbody tr th:only-of-type {\n",
       "        vertical-align: middle;\n",
       "    }\n",
       "\n",
       "    .dataframe tbody tr th {\n",
       "        vertical-align: top;\n",
       "    }\n",
       "\n",
       "    .dataframe thead th {\n",
       "        text-align: right;\n",
       "    }\n",
       "</style>\n",
       "<table border=\"1\" class=\"dataframe\">\n",
       "  <thead>\n",
       "    <tr style=\"text-align: right;\">\n",
       "      <th></th>\n",
       "      <th>Unnamed: 0</th>\n",
       "      <th>Country</th>\n",
       "      <th>Year</th>\n",
       "      <th>Meningitis</th>\n",
       "      <th>Alzheimer_s_Disease_and_Other_Dementias</th>\n",
       "      <th>Parkinson_s_Disease</th>\n",
       "      <th>Nutritional_Deficiencies</th>\n",
       "      <th>Malaria</th>\n",
       "      <th>Drowning</th>\n",
       "      <th>Interpersonal_Violence</th>\n",
       "      <th>...</th>\n",
       "      <th>Digestive_Diseases</th>\n",
       "      <th>Fire_Heat_and_Hot_Substances</th>\n",
       "      <th>Acute_Hepatitis</th>\n",
       "      <th>Total_no_of_Deaths</th>\n",
       "      <th>Indicator</th>\n",
       "      <th>Sex</th>\n",
       "      <th>Age Group</th>\n",
       "      <th>Number</th>\n",
       "      <th>Death_indicator</th>\n",
       "      <th>Health_expedinture</th>\n",
       "    </tr>\n",
       "  </thead>\n",
       "  <tbody>\n",
       "    <tr>\n",
       "      <th>0</th>\n",
       "      <td>1</td>\n",
       "      <td>Australia</td>\n",
       "      <td>2009</td>\n",
       "      <td>49</td>\n",
       "      <td>8064</td>\n",
       "      <td>1837</td>\n",
       "      <td>137</td>\n",
       "      <td>0</td>\n",
       "      <td>207</td>\n",
       "      <td>339</td>\n",
       "      <td>...</td>\n",
       "      <td>5186</td>\n",
       "      <td>266</td>\n",
       "      <td>12</td>\n",
       "      <td>269843.56</td>\n",
       "      <td>8.56</td>\n",
       "      <td>All</td>\n",
       "      <td>[0]</td>\n",
       "      <td>1261</td>\n",
       "      <td>Low</td>\n",
       "      <td>Middle</td>\n",
       "    </tr>\n",
       "    <tr>\n",
       "      <th>1</th>\n",
       "      <td>2</td>\n",
       "      <td>Australia</td>\n",
       "      <td>2009</td>\n",
       "      <td>49</td>\n",
       "      <td>8064</td>\n",
       "      <td>1837</td>\n",
       "      <td>137</td>\n",
       "      <td>0</td>\n",
       "      <td>207</td>\n",
       "      <td>339</td>\n",
       "      <td>...</td>\n",
       "      <td>5186</td>\n",
       "      <td>266</td>\n",
       "      <td>12</td>\n",
       "      <td>268813.56</td>\n",
       "      <td>8.56</td>\n",
       "      <td>All</td>\n",
       "      <td>[1-4]</td>\n",
       "      <td>230</td>\n",
       "      <td>Low</td>\n",
       "      <td>Middle</td>\n",
       "    </tr>\n",
       "    <tr>\n",
       "      <th>2</th>\n",
       "      <td>3</td>\n",
       "      <td>Australia</td>\n",
       "      <td>2009</td>\n",
       "      <td>49</td>\n",
       "      <td>8064</td>\n",
       "      <td>1837</td>\n",
       "      <td>137</td>\n",
       "      <td>0</td>\n",
       "      <td>207</td>\n",
       "      <td>339</td>\n",
       "      <td>...</td>\n",
       "      <td>5186</td>\n",
       "      <td>266</td>\n",
       "      <td>12</td>\n",
       "      <td>268718.56</td>\n",
       "      <td>8.56</td>\n",
       "      <td>All</td>\n",
       "      <td>[5-9]</td>\n",
       "      <td>134</td>\n",
       "      <td>Low</td>\n",
       "      <td>Middle</td>\n",
       "    </tr>\n",
       "    <tr>\n",
       "      <th>3</th>\n",
       "      <td>4</td>\n",
       "      <td>Australia</td>\n",
       "      <td>2009</td>\n",
       "      <td>49</td>\n",
       "      <td>8064</td>\n",
       "      <td>1837</td>\n",
       "      <td>137</td>\n",
       "      <td>0</td>\n",
       "      <td>207</td>\n",
       "      <td>339</td>\n",
       "      <td>...</td>\n",
       "      <td>5186</td>\n",
       "      <td>266</td>\n",
       "      <td>12</td>\n",
       "      <td>268736.56</td>\n",
       "      <td>8.56</td>\n",
       "      <td>All</td>\n",
       "      <td>[10-14]</td>\n",
       "      <td>151</td>\n",
       "      <td>Low</td>\n",
       "      <td>Middle</td>\n",
       "    </tr>\n",
       "    <tr>\n",
       "      <th>4</th>\n",
       "      <td>5</td>\n",
       "      <td>Australia</td>\n",
       "      <td>2009</td>\n",
       "      <td>49</td>\n",
       "      <td>8064</td>\n",
       "      <td>1837</td>\n",
       "      <td>137</td>\n",
       "      <td>0</td>\n",
       "      <td>207</td>\n",
       "      <td>339</td>\n",
       "      <td>...</td>\n",
       "      <td>5186</td>\n",
       "      <td>266</td>\n",
       "      <td>12</td>\n",
       "      <td>269121.56</td>\n",
       "      <td>8.56</td>\n",
       "      <td>All</td>\n",
       "      <td>[15-19]</td>\n",
       "      <td>535</td>\n",
       "      <td>Low</td>\n",
       "      <td>Middle</td>\n",
       "    </tr>\n",
       "  </tbody>\n",
       "</table>\n",
       "<p>5 rows × 41 columns</p>\n",
       "</div>"
      ],
      "text/plain": [
       "   Unnamed: 0    Country  Year  Meningitis  \\\n",
       "0           1  Australia  2009          49   \n",
       "1           2  Australia  2009          49   \n",
       "2           3  Australia  2009          49   \n",
       "3           4  Australia  2009          49   \n",
       "4           5  Australia  2009          49   \n",
       "\n",
       "   Alzheimer_s_Disease_and_Other_Dementias  Parkinson_s_Disease  \\\n",
       "0                                     8064                 1837   \n",
       "1                                     8064                 1837   \n",
       "2                                     8064                 1837   \n",
       "3                                     8064                 1837   \n",
       "4                                     8064                 1837   \n",
       "\n",
       "   Nutritional_Deficiencies  Malaria  Drowning  Interpersonal_Violence  ...  \\\n",
       "0                       137        0       207                     339  ...   \n",
       "1                       137        0       207                     339  ...   \n",
       "2                       137        0       207                     339  ...   \n",
       "3                       137        0       207                     339  ...   \n",
       "4                       137        0       207                     339  ...   \n",
       "\n",
       "   Digestive_Diseases  Fire_Heat_and_Hot_Substances  Acute_Hepatitis  \\\n",
       "0                5186                           266               12   \n",
       "1                5186                           266               12   \n",
       "2                5186                           266               12   \n",
       "3                5186                           266               12   \n",
       "4                5186                           266               12   \n",
       "\n",
       "   Total_no_of_Deaths  Indicator  Sex  Age Group  Number  Death_indicator  \\\n",
       "0           269843.56       8.56  All        [0]    1261              Low   \n",
       "1           268813.56       8.56  All      [1-4]     230              Low   \n",
       "2           268718.56       8.56  All      [5-9]     134              Low   \n",
       "3           268736.56       8.56  All    [10-14]     151              Low   \n",
       "4           269121.56       8.56  All    [15-19]     535              Low   \n",
       "\n",
       "   Health_expedinture  \n",
       "0              Middle  \n",
       "1              Middle  \n",
       "2              Middle  \n",
       "3              Middle  \n",
       "4              Middle  \n",
       "\n",
       "[5 rows x 41 columns]"
      ]
     },
     "execution_count": 6,
     "metadata": {},
     "output_type": "execute_result"
    }
   ],
   "source": [
    "df.head()"
   ]
  },
  {
   "cell_type": "code",
   "execution_count": 7,
   "id": "04cde806",
   "metadata": {},
   "outputs": [],
   "source": [
    "#Remove categorical variables and not necessary variables\n",
    "df1 = df.drop(columns =['Country','Sex','Death_indicator','Age Group','Health_expedinture','Year','Meningitis','Parkinson_s_Disease',\n",
    "                       'Nutritional_Deficiencies','Malaria','Drowning','Interpersonal_Violence','Maternal_Disorders','HIV_AIDS',\n",
    "                       'Drug_Use_Disorders','Tuberculosis','Neonatal_Disorders','Alcohol_Use_Disorders','Self_harm','Exposure_to_Forces_of_Nature',\n",
    "                       'Diarrheal_Diseases','Environmental_Heat_and_Cold_Exposure','Conflict_and_Terrorism','Chronic_Kidney_Disease',\n",
    "                       'Poisonings','Protein_Energy_Malnutrition','Road_Injuries','Cirrhosis_and_Other_Chronic_Liver_Diseases',\n",
    "                       'Fire_Heat_and_Hot_Substances','Acute_Hepatitis','Digestive_Diseases','Lower_Respiratory_Infections','Diabetes_Mellitus',\n",
    "                       'Indicator','Number'])"
   ]
  },
  {
   "cell_type": "code",
   "execution_count": 8,
   "id": "42109844",
   "metadata": {
    "scrolled": true
   },
   "outputs": [
    {
     "data": {
      "text/html": [
       "<div>\n",
       "<style scoped>\n",
       "    .dataframe tbody tr th:only-of-type {\n",
       "        vertical-align: middle;\n",
       "    }\n",
       "\n",
       "    .dataframe tbody tr th {\n",
       "        vertical-align: top;\n",
       "    }\n",
       "\n",
       "    .dataframe thead th {\n",
       "        text-align: right;\n",
       "    }\n",
       "</style>\n",
       "<table border=\"1\" class=\"dataframe\">\n",
       "  <thead>\n",
       "    <tr style=\"text-align: right;\">\n",
       "      <th></th>\n",
       "      <th>Unnamed: 0</th>\n",
       "      <th>Alzheimer_s_Disease_and_Other_Dementias</th>\n",
       "      <th>Cardiovascular_Diseases</th>\n",
       "      <th>Neoplasms</th>\n",
       "      <th>Chronic_Respiratory_Diseases</th>\n",
       "      <th>Total_no_of_Deaths</th>\n",
       "    </tr>\n",
       "  </thead>\n",
       "  <tbody>\n",
       "    <tr>\n",
       "      <th>0</th>\n",
       "      <td>1</td>\n",
       "      <td>8064</td>\n",
       "      <td>45219</td>\n",
       "      <td>43523</td>\n",
       "      <td>8342</td>\n",
       "      <td>269843.56</td>\n",
       "    </tr>\n",
       "    <tr>\n",
       "      <th>1</th>\n",
       "      <td>2</td>\n",
       "      <td>8064</td>\n",
       "      <td>45219</td>\n",
       "      <td>43523</td>\n",
       "      <td>8342</td>\n",
       "      <td>268813.56</td>\n",
       "    </tr>\n",
       "    <tr>\n",
       "      <th>2</th>\n",
       "      <td>3</td>\n",
       "      <td>8064</td>\n",
       "      <td>45219</td>\n",
       "      <td>43523</td>\n",
       "      <td>8342</td>\n",
       "      <td>268718.56</td>\n",
       "    </tr>\n",
       "    <tr>\n",
       "      <th>3</th>\n",
       "      <td>4</td>\n",
       "      <td>8064</td>\n",
       "      <td>45219</td>\n",
       "      <td>43523</td>\n",
       "      <td>8342</td>\n",
       "      <td>268736.56</td>\n",
       "    </tr>\n",
       "    <tr>\n",
       "      <th>4</th>\n",
       "      <td>5</td>\n",
       "      <td>8064</td>\n",
       "      <td>45219</td>\n",
       "      <td>43523</td>\n",
       "      <td>8342</td>\n",
       "      <td>269121.56</td>\n",
       "    </tr>\n",
       "    <tr>\n",
       "      <th>...</th>\n",
       "      <td>...</td>\n",
       "      <td>...</td>\n",
       "      <td>...</td>\n",
       "      <td>...</td>\n",
       "      <td>...</td>\n",
       "      <td>...</td>\n",
       "    </tr>\n",
       "    <tr>\n",
       "      <th>6766</th>\n",
       "      <td>7479</td>\n",
       "      <td>143919</td>\n",
       "      <td>957455</td>\n",
       "      <td>773895</td>\n",
       "      <td>224988</td>\n",
       "      <td>5841652.77</td>\n",
       "    </tr>\n",
       "    <tr>\n",
       "      <th>6767</th>\n",
       "      <td>7480</td>\n",
       "      <td>143919</td>\n",
       "      <td>957455</td>\n",
       "      <td>773895</td>\n",
       "      <td>224988</td>\n",
       "      <td>5870017.77</td>\n",
       "    </tr>\n",
       "    <tr>\n",
       "      <th>6768</th>\n",
       "      <td>7481</td>\n",
       "      <td>143919</td>\n",
       "      <td>957455</td>\n",
       "      <td>773895</td>\n",
       "      <td>224988</td>\n",
       "      <td>5891177.77</td>\n",
       "    </tr>\n",
       "    <tr>\n",
       "      <th>6769</th>\n",
       "      <td>7482</td>\n",
       "      <td>143919</td>\n",
       "      <td>957455</td>\n",
       "      <td>773895</td>\n",
       "      <td>224988</td>\n",
       "      <td>5918111.77</td>\n",
       "    </tr>\n",
       "    <tr>\n",
       "      <th>6770</th>\n",
       "      <td>7483</td>\n",
       "      <td>143919</td>\n",
       "      <td>957455</td>\n",
       "      <td>773895</td>\n",
       "      <td>224988</td>\n",
       "      <td>6273763.77</td>\n",
       "    </tr>\n",
       "  </tbody>\n",
       "</table>\n",
       "<p>6771 rows × 6 columns</p>\n",
       "</div>"
      ],
      "text/plain": [
       "      Unnamed: 0  Alzheimer_s_Disease_and_Other_Dementias  \\\n",
       "0              1                                     8064   \n",
       "1              2                                     8064   \n",
       "2              3                                     8064   \n",
       "3              4                                     8064   \n",
       "4              5                                     8064   \n",
       "...          ...                                      ...   \n",
       "6766        7479                                   143919   \n",
       "6767        7480                                   143919   \n",
       "6768        7481                                   143919   \n",
       "6769        7482                                   143919   \n",
       "6770        7483                                   143919   \n",
       "\n",
       "      Cardiovascular_Diseases  Neoplasms  Chronic_Respiratory_Diseases  \\\n",
       "0                       45219      43523                          8342   \n",
       "1                       45219      43523                          8342   \n",
       "2                       45219      43523                          8342   \n",
       "3                       45219      43523                          8342   \n",
       "4                       45219      43523                          8342   \n",
       "...                       ...        ...                           ...   \n",
       "6766                   957455     773895                        224988   \n",
       "6767                   957455     773895                        224988   \n",
       "6768                   957455     773895                        224988   \n",
       "6769                   957455     773895                        224988   \n",
       "6770                   957455     773895                        224988   \n",
       "\n",
       "      Total_no_of_Deaths  \n",
       "0              269843.56  \n",
       "1              268813.56  \n",
       "2              268718.56  \n",
       "3              268736.56  \n",
       "4              269121.56  \n",
       "...                  ...  \n",
       "6766          5841652.77  \n",
       "6767          5870017.77  \n",
       "6768          5891177.77  \n",
       "6769          5918111.77  \n",
       "6770          6273763.77  \n",
       "\n",
       "[6771 rows x 6 columns]"
      ]
     },
     "execution_count": 8,
     "metadata": {},
     "output_type": "execute_result"
    }
   ],
   "source": [
    "df1"
   ]
  },
  {
   "cell_type": "code",
   "execution_count": 9,
   "id": "0035404e",
   "metadata": {
    "scrolled": true
   },
   "outputs": [
    {
     "data": {
      "text/plain": [
       "Unnamed: 0                                 0\n",
       "Alzheimer_s_Disease_and_Other_Dementias    0\n",
       "Cardiovascular_Diseases                    0\n",
       "Neoplasms                                  0\n",
       "Chronic_Respiratory_Diseases               0\n",
       "Total_no_of_Deaths                         0\n",
       "dtype: int64"
      ]
     },
     "execution_count": 9,
     "metadata": {},
     "output_type": "execute_result"
    }
   ],
   "source": [
    "#Check for null values\n",
    "df1.isnull().sum()"
   ]
  },
  {
   "cell_type": "markdown",
   "id": "3f19397b",
   "metadata": {},
   "source": [
    "## 2. Standardizing Data"
   ]
  },
  {
   "cell_type": "code",
   "execution_count": 10,
   "id": "1fc1e2d8",
   "metadata": {
    "scrolled": true
   },
   "outputs": [
    {
     "name": "stdout",
     "output_type": "stream",
     "text": [
      "[[-1.7315485  -0.70913232 -0.59492556 -0.57675019 -0.47347644 -0.64699407]\n",
      " [-1.7310857  -0.70913232 -0.59492556 -0.57675019 -0.47347644 -0.64718752]\n",
      " [-1.73062291 -0.70913232 -0.59492556 -0.57675019 -0.47347644 -0.64720536]\n",
      " ...\n",
      " [ 1.73015895  1.19817729  0.19423383  0.51061687  0.21854735  0.40880177]\n",
      " [ 1.73062174  1.19817729  0.19423383  0.51061687  0.21854735  0.4138605 ]\n",
      " [ 1.73108454  1.19817729  0.19423383  0.51061687  0.21854735  0.48065886]]\n"
     ]
    }
   ],
   "source": [
    "#Use Standard Scaler to standardize data in the dataframe\n",
    "scaler = StandardScaler()\n",
    "standardized_data = scaler.fit_transform(df1)\n",
    "print(standardized_data)"
   ]
  },
  {
   "cell_type": "code",
   "execution_count": 11,
   "id": "0471b43b",
   "metadata": {},
   "outputs": [
    {
     "data": {
      "text/plain": [
       "PCA()"
      ]
     },
     "execution_count": 11,
     "metadata": {},
     "output_type": "execute_result"
    }
   ],
   "source": [
    "#Employ PCA to find a subset of components, which explain the varience in the data\n",
    "pca = PCA()\n",
    "pca.fit(standardized_data)"
   ]
  },
  {
   "cell_type": "code",
   "execution_count": 12,
   "id": "fd30a985",
   "metadata": {},
   "outputs": [
    {
     "data": {
      "text/plain": [
       "array([8.14410954e-01, 1.69922662e-01, 1.08416828e-02, 4.38714140e-03,\n",
       "       3.84210985e-04, 5.33490958e-05])"
      ]
     },
     "execution_count": 12,
     "metadata": {},
     "output_type": "execute_result"
    }
   ],
   "source": [
    "#Show how much variance is explained by each of the four components\n",
    "pca.explained_variance_ratio_"
   ]
  },
  {
   "cell_type": "code",
   "execution_count": 13,
   "id": "81628788",
   "metadata": {},
   "outputs": [
    {
     "data": {
      "text/plain": [
       "Text(0, 0.5, 'Cumulative Explained Variance')"
      ]
     },
     "execution_count": 13,
     "metadata": {},
     "output_type": "execute_result"
    },
    {
     "data": {
      "image/png": "[encoded data removed]",
      "text/plain": [
       "<Figure size 720x576 with 1 Axes>"
      ]
     },
     "metadata": {
      "needs_background": "light"
     },
     "output_type": "display_data"
    }
   ],
   "source": [
    "#Plot the cumulative variance explained by total number of components\n",
    "plt.figure(figsize = (10,8))\n",
    "plt.plot(range (1,7), pca.explained_variance_ratio_.cumsum(), marker = 'o', linestyle = '--')\n",
    "plt.title('Explained Variance by Components')\n",
    "plt.xlabel('Number of Components')\n",
    "plt.ylabel('Cumulative Explained Variance')"
   ]
  },
  {
   "cell_type": "code",
   "execution_count": 14,
   "id": "1d5496e6",
   "metadata": {},
   "outputs": [],
   "source": [
    "#Choice of two components based on the above findings\n",
    "pca = PCA(n_components = 2)"
   ]
  },
  {
   "cell_type": "code",
   "execution_count": 15,
   "id": "af3fbf1a",
   "metadata": {},
   "outputs": [
    {
     "data": {
      "text/plain": [
       "PCA(n_components=2)"
      ]
     },
     "execution_count": 15,
     "metadata": {},
     "output_type": "execute_result"
    }
   ],
   "source": [
    "#Fit model to data\n",
    "pca.fit(standardized_data)"
   ]
  },
  {
   "cell_type": "code",
   "execution_count": 16,
   "id": "6c9325ab",
   "metadata": {},
   "outputs": [
    {
     "data": {
      "text/plain": [
       "array([[-1.34390694, -1.73612274],\n",
       "       [-1.3439936 , -1.73566303],\n",
       "       [-1.34400099, -1.7352048 ],\n",
       "       ...,\n",
       "       [ 1.12821594,  1.82012044],\n",
       "       [ 1.13050014,  1.8205361 ],\n",
       "       [ 1.16065402,  1.8204339 ]])"
      ]
     },
     "execution_count": 16,
     "metadata": {},
     "output_type": "execute_result"
    }
   ],
   "source": [
    "#Extract calculated resulting components for the data set\n",
    "pca.transform(standardized_data)"
   ]
  },
  {
   "cell_type": "code",
   "execution_count": 17,
   "id": "7a8e8e21",
   "metadata": {},
   "outputs": [],
   "source": [
    "scores_pca = pca.transform(standardized_data)"
   ]
  },
  {
   "cell_type": "markdown",
   "id": "5f508fde",
   "metadata": {},
   "source": [
    "## 3. The elbow technique"
   ]
  },
  {
   "cell_type": "code",
   "execution_count": 18,
   "id": "eed68db6",
   "metadata": {},
   "outputs": [],
   "source": [
    "#Define the range of potential clusters in the data and k-means clusters in the range assigned\n",
    "num_cl = range(1, 10) \n",
    "kmeans = [KMeans(n_clusters=i) for i in num_cl]"
   ]
  },
  {
   "cell_type": "code",
   "execution_count": 19,
   "id": "66fa4ba6",
   "metadata": {},
   "outputs": [],
   "source": [
    "score = [kmeans[i].fit(scores_pca).score(scores_pca) for i in range(len(kmeans))]"
   ]
  },
  {
   "cell_type": "code",
   "execution_count": 20,
   "id": "d393f3e2",
   "metadata": {},
   "outputs": [
    {
     "data": {
      "text/plain": [
       "[-39989.537471868076,\n",
       " -9247.559761775203,\n",
       " -3625.145758385362,\n",
       " -1721.4605365825294,\n",
       " -1029.794483678564,\n",
       " -788.383018499771,\n",
       " -571.9471870744752,\n",
       " -390.8347013171967,\n",
       " -261.3102782676916]"
      ]
     },
     "execution_count": 20,
     "metadata": {},
     "output_type": "execute_result"
    }
   ],
   "source": [
    "score"
   ]
  },
  {
   "cell_type": "code",
   "execution_count": 21,
   "id": "87cc64e2",
   "metadata": {},
   "outputs": [
    {
     "data": {
      "image/png": "[encoded data removed]",
      "text/plain": [
       "<Figure size 432x288 with 1 Axes>"
      ]
     },
     "metadata": {
      "needs_background": "light"
     },
     "output_type": "display_data"
    }
   ],
   "source": [
    "#Plot elbow curve\n",
    "pl.plot(num_cl,score, marker = 'o')\n",
    "pl.xlabel('Number of Clusters')\n",
    "pl.ylabel('Score')\n",
    "pl.title ('Elbow Curve')\n",
    "pl.show()"
   ]
  },
  {
   "cell_type": "markdown",
   "id": "ffebd154",
   "metadata": {},
   "source": [
    "##### The last big jump between 2 and 3 shows that the optimal count for the clusters is 3. After 3 the line on the x-axis straightens out."
   ]
  },
  {
   "cell_type": "markdown",
   "id": "70db5b32",
   "metadata": {},
   "source": [
    "## 4. K-means clustering"
   ]
  },
  {
   "cell_type": "code",
   "execution_count": 22,
   "id": "496ce084",
   "metadata": {},
   "outputs": [],
   "source": [
    "#Create the k-means object\n",
    "kmeans = KMeans(n_clusters = 3) "
   ]
  },
  {
   "cell_type": "code",
   "execution_count": 23,
   "id": "ec0fb48c",
   "metadata": {},
   "outputs": [
    {
     "data": {
      "text/plain": [
       "KMeans(n_clusters=3)"
      ]
     },
     "execution_count": 23,
     "metadata": {},
     "output_type": "execute_result"
    }
   ],
   "source": [
    "#Fit the k-means object to the data.\n",
    "kmeans.fit(df1)"
   ]
  },
  {
   "cell_type": "code",
   "execution_count": 24,
   "id": "ff0ff297",
   "metadata": {},
   "outputs": [],
   "source": [
    "#Create a column in df1 with values corresponding to which cluster every observation belongs\n",
    "df1['Clusters'] = kmeans.fit_predict(df1)"
   ]
  },
  {
   "cell_type": "code",
   "execution_count": 25,
   "id": "7dc37b44",
   "metadata": {
    "scrolled": true
   },
   "outputs": [
    {
     "data": {
      "text/html": [
       "<div>\n",
       "<style scoped>\n",
       "    .dataframe tbody tr th:only-of-type {\n",
       "        vertical-align: middle;\n",
       "    }\n",
       "\n",
       "    .dataframe tbody tr th {\n",
       "        vertical-align: top;\n",
       "    }\n",
       "\n",
       "    .dataframe thead th {\n",
       "        text-align: right;\n",
       "    }\n",
       "</style>\n",
       "<table border=\"1\" class=\"dataframe\">\n",
       "  <thead>\n",
       "    <tr style=\"text-align: right;\">\n",
       "      <th></th>\n",
       "      <th>Unnamed: 0</th>\n",
       "      <th>Alzheimer_s_Disease_and_Other_Dementias</th>\n",
       "      <th>Cardiovascular_Diseases</th>\n",
       "      <th>Neoplasms</th>\n",
       "      <th>Chronic_Respiratory_Diseases</th>\n",
       "      <th>Total_no_of_Deaths</th>\n",
       "      <th>Clusters</th>\n",
       "    </tr>\n",
       "  </thead>\n",
       "  <tbody>\n",
       "    <tr>\n",
       "      <th>0</th>\n",
       "      <td>1</td>\n",
       "      <td>8064</td>\n",
       "      <td>45219</td>\n",
       "      <td>43523</td>\n",
       "      <td>8342</td>\n",
       "      <td>269843.56</td>\n",
       "      <td>2</td>\n",
       "    </tr>\n",
       "    <tr>\n",
       "      <th>1</th>\n",
       "      <td>2</td>\n",
       "      <td>8064</td>\n",
       "      <td>45219</td>\n",
       "      <td>43523</td>\n",
       "      <td>8342</td>\n",
       "      <td>268813.56</td>\n",
       "      <td>2</td>\n",
       "    </tr>\n",
       "    <tr>\n",
       "      <th>2</th>\n",
       "      <td>3</td>\n",
       "      <td>8064</td>\n",
       "      <td>45219</td>\n",
       "      <td>43523</td>\n",
       "      <td>8342</td>\n",
       "      <td>268718.56</td>\n",
       "      <td>2</td>\n",
       "    </tr>\n",
       "    <tr>\n",
       "      <th>3</th>\n",
       "      <td>4</td>\n",
       "      <td>8064</td>\n",
       "      <td>45219</td>\n",
       "      <td>43523</td>\n",
       "      <td>8342</td>\n",
       "      <td>268736.56</td>\n",
       "      <td>2</td>\n",
       "    </tr>\n",
       "    <tr>\n",
       "      <th>4</th>\n",
       "      <td>5</td>\n",
       "      <td>8064</td>\n",
       "      <td>45219</td>\n",
       "      <td>43523</td>\n",
       "      <td>8342</td>\n",
       "      <td>269121.56</td>\n",
       "      <td>2</td>\n",
       "    </tr>\n",
       "  </tbody>\n",
       "</table>\n",
       "</div>"
      ],
      "text/plain": [
       "   Unnamed: 0  Alzheimer_s_Disease_and_Other_Dementias  \\\n",
       "0           1                                     8064   \n",
       "1           2                                     8064   \n",
       "2           3                                     8064   \n",
       "3           4                                     8064   \n",
       "4           5                                     8064   \n",
       "\n",
       "   Cardiovascular_Diseases  Neoplasms  Chronic_Respiratory_Diseases  \\\n",
       "0                    45219      43523                          8342   \n",
       "1                    45219      43523                          8342   \n",
       "2                    45219      43523                          8342   \n",
       "3                    45219      43523                          8342   \n",
       "4                    45219      43523                          8342   \n",
       "\n",
       "   Total_no_of_Deaths  Clusters  \n",
       "0           269843.56         2  \n",
       "1           268813.56         2  \n",
       "2           268718.56         2  \n",
       "3           268736.56         2  \n",
       "4           269121.56         2  "
      ]
     },
     "execution_count": 25,
     "metadata": {},
     "output_type": "execute_result"
    }
   ],
   "source": [
    "df1.head()"
   ]
  },
  {
   "cell_type": "code",
   "execution_count": 26,
   "id": "6b6a1d01",
   "metadata": {},
   "outputs": [],
   "source": [
    "#Create a new Segment column for easier cluster readabilty\n",
    "df1['Segment'] = df1 ['Clusters'].map({0: 'first', \n",
    "                                            1: 'second', \n",
    "                                            2: 'third', \n",
    "                                            3: 'fourth'})"
   ]
  },
  {
   "cell_type": "code",
   "execution_count": 27,
   "id": "e8315dd1",
   "metadata": {},
   "outputs": [
    {
     "data": {
      "text/html": [
       "<div>\n",
       "<style scoped>\n",
       "    .dataframe tbody tr th:only-of-type {\n",
       "        vertical-align: middle;\n",
       "    }\n",
       "\n",
       "    .dataframe tbody tr th {\n",
       "        vertical-align: top;\n",
       "    }\n",
       "\n",
       "    .dataframe thead th {\n",
       "        text-align: right;\n",
       "    }\n",
       "</style>\n",
       "<table border=\"1\" class=\"dataframe\">\n",
       "  <thead>\n",
       "    <tr style=\"text-align: right;\">\n",
       "      <th></th>\n",
       "      <th>Unnamed: 0</th>\n",
       "      <th>Alzheimer_s_Disease_and_Other_Dementias</th>\n",
       "      <th>Cardiovascular_Diseases</th>\n",
       "      <th>Neoplasms</th>\n",
       "      <th>Chronic_Respiratory_Diseases</th>\n",
       "      <th>Total_no_of_Deaths</th>\n",
       "      <th>Clusters</th>\n",
       "      <th>Segment</th>\n",
       "    </tr>\n",
       "  </thead>\n",
       "  <tbody>\n",
       "    <tr>\n",
       "      <th>0</th>\n",
       "      <td>1</td>\n",
       "      <td>8064</td>\n",
       "      <td>45219</td>\n",
       "      <td>43523</td>\n",
       "      <td>8342</td>\n",
       "      <td>269843.56</td>\n",
       "      <td>2</td>\n",
       "      <td>third</td>\n",
       "    </tr>\n",
       "    <tr>\n",
       "      <th>1</th>\n",
       "      <td>2</td>\n",
       "      <td>8064</td>\n",
       "      <td>45219</td>\n",
       "      <td>43523</td>\n",
       "      <td>8342</td>\n",
       "      <td>268813.56</td>\n",
       "      <td>2</td>\n",
       "      <td>third</td>\n",
       "    </tr>\n",
       "    <tr>\n",
       "      <th>2</th>\n",
       "      <td>3</td>\n",
       "      <td>8064</td>\n",
       "      <td>45219</td>\n",
       "      <td>43523</td>\n",
       "      <td>8342</td>\n",
       "      <td>268718.56</td>\n",
       "      <td>2</td>\n",
       "      <td>third</td>\n",
       "    </tr>\n",
       "    <tr>\n",
       "      <th>3</th>\n",
       "      <td>4</td>\n",
       "      <td>8064</td>\n",
       "      <td>45219</td>\n",
       "      <td>43523</td>\n",
       "      <td>8342</td>\n",
       "      <td>268736.56</td>\n",
       "      <td>2</td>\n",
       "      <td>third</td>\n",
       "    </tr>\n",
       "    <tr>\n",
       "      <th>4</th>\n",
       "      <td>5</td>\n",
       "      <td>8064</td>\n",
       "      <td>45219</td>\n",
       "      <td>43523</td>\n",
       "      <td>8342</td>\n",
       "      <td>269121.56</td>\n",
       "      <td>2</td>\n",
       "      <td>third</td>\n",
       "    </tr>\n",
       "  </tbody>\n",
       "</table>\n",
       "</div>"
      ],
      "text/plain": [
       "   Unnamed: 0  Alzheimer_s_Disease_and_Other_Dementias  \\\n",
       "0           1                                     8064   \n",
       "1           2                                     8064   \n",
       "2           3                                     8064   \n",
       "3           4                                     8064   \n",
       "4           5                                     8064   \n",
       "\n",
       "   Cardiovascular_Diseases  Neoplasms  Chronic_Respiratory_Diseases  \\\n",
       "0                    45219      43523                          8342   \n",
       "1                    45219      43523                          8342   \n",
       "2                    45219      43523                          8342   \n",
       "3                    45219      43523                          8342   \n",
       "4                    45219      43523                          8342   \n",
       "\n",
       "   Total_no_of_Deaths  Clusters Segment  \n",
       "0           269843.56         2   third  \n",
       "1           268813.56         2   third  \n",
       "2           268718.56         2   third  \n",
       "3           268736.56         2   third  \n",
       "4           269121.56         2   third  "
      ]
     },
     "execution_count": 27,
     "metadata": {},
     "output_type": "execute_result"
    }
   ],
   "source": [
    "df1.head()"
   ]
  },
  {
   "cell_type": "code",
   "execution_count": 28,
   "id": "dfd8bdde",
   "metadata": {},
   "outputs": [
    {
     "data": {
      "text/plain": [
       "third     4814\n",
       "first     1273\n",
       "second     684\n",
       "Name: Segment, dtype: int64"
      ]
     },
     "execution_count": 28,
     "metadata": {},
     "output_type": "execute_result"
    }
   ],
   "source": [
    "df1['Segment'].value_counts()"
   ]
  },
  {
   "cell_type": "code",
   "execution_count": 29,
   "id": "c84be4b5",
   "metadata": {},
   "outputs": [
    {
     "data": {
      "image/png": "[encoded data removed]",
      "text/plain": [
       "<Figure size 864x576 with 1 Axes>"
      ]
     },
     "metadata": {
      "needs_background": "light"
     },
     "output_type": "display_data"
    }
   ],
   "source": [
    "# Plot the clusters for the \"Chronic_Respiratory_Diseases\" and \"Total_no_of_Deaths\" variables\n",
    "plt.figure(figsize=(12,8))\n",
    "ax = sns.scatterplot(x=df1['Chronic_Respiratory_Diseases'], y=df1['Total_no_of_Deaths'], hue=kmeans.labels_, s=100) \n",
    "#Here, I'm subsetting `X` for the x and y arguments to avoid using their labels. \n",
    "#`hue` takes the value of the attribute `kmeans.labels_`, which is the result of running the k-means algorithm.\n",
    "#`s` represents the size of the points we want to see in the plot.\n",
    "\n",
    "ax.grid(False) #Removes the grid from the background\n",
    "plt.xlabel('Chronic Respiratory Diseases') #Label x-axis\n",
    "plt.ylabel('Total Number of Deaths') #Label y-axis\n",
    "plt.show()"
   ]
  },
  {
   "cell_type": "code",
   "execution_count": 30,
   "id": "ded3f0d8",
   "metadata": {},
   "outputs": [
    {
     "data": {
      "image/png": "[encoded data removed]",
      "text/plain": [
       "<Figure size 864x576 with 1 Axes>"
      ]
     },
     "metadata": {
      "needs_background": "light"
     },
     "output_type": "display_data"
    }
   ],
   "source": [
    "# Plot the clusters for the \"Alzheimer_s_Disease_and_Other_Dementias\" and \"Total_no_of_Deaths\" variables\n",
    "plt.figure(figsize=(12,8))\n",
    "ax = sns.scatterplot(x=df1['Alzheimer_s_Disease_and_Other_Dementias'], y=df1['Total_no_of_Deaths'], hue=kmeans.labels_, s=100) \n",
    "ax.grid(False) \n",
    "plt.xlabel('Alzheimers Disease and Other Dementias') \n",
    "plt.ylabel('Total Number of Deaths')\n",
    "plt.show()"
   ]
  },
  {
   "cell_type": "code",
   "execution_count": 31,
   "id": "fcb3c00d",
   "metadata": {},
   "outputs": [
    {
     "data": {
      "image/png": "[encoded data removed]",
      "text/plain": [
       "<Figure size 864x576 with 1 Axes>"
      ]
     },
     "metadata": {
      "needs_background": "light"
     },
     "output_type": "display_data"
    }
   ],
   "source": [
    "# Plot the clusters for the \"Cardiovascular_Diseases\" and \"Total_no_of_Deaths\" variables\n",
    "plt.figure(figsize=(12,8))\n",
    "ax = sns.scatterplot(x=df1['Cardiovascular_Diseases'], y=df1['Total_no_of_Deaths'], hue=kmeans.labels_, s=100) \n",
    "ax.grid(False) \n",
    "plt.xlabel('Cardiovascular Diseases') \n",
    "plt.ylabel('Total Number of Deaths') \n",
    "plt.show()"
   ]
  },
  {
   "cell_type": "code",
   "execution_count": 32,
   "id": "10fbe727",
   "metadata": {},
   "outputs": [
    {
     "data": {
      "image/png": "[encoded data removed]",
      "text/plain": [
       "<Figure size 864x576 with 1 Axes>"
      ]
     },
     "metadata": {
      "needs_background": "light"
     },
     "output_type": "display_data"
    }
   ],
   "source": [
    "# Plot the clusters for the \"Neoplasms\" and \"Total_no_of_Deaths\" variables\n",
    "plt.figure(figsize=(12,8))\n",
    "ax = sns.scatterplot(x=df1['Neoplasms'], y=df1['Total_no_of_Deaths'], hue=kmeans.labels_, s=100) \n",
    "ax.grid(False) \n",
    "plt.xlabel('Neoplasms') \n",
    "plt.ylabel('Total Number of Deaths') \n",
    "plt.show()"
   ]
  },
  {
   "cell_type": "markdown",
   "id": "c7234d50",
   "metadata": {},
   "source": [
    "##### The graphs make sense showing, for example, that cluster 2 contributes to the total number of deaths less than cluster 0.  The more deaths from the disease are (cluster 1), the higher are the figures of total number of deaths in the country."
   ]
  },
  {
   "cell_type": "code",
   "execution_count": 33,
   "id": "3ad1fe61",
   "metadata": {},
   "outputs": [
    {
     "data": {
      "text/html": [
       "<div>\n",
       "<style scoped>\n",
       "    .dataframe tbody tr th:only-of-type {\n",
       "        vertical-align: middle;\n",
       "    }\n",
       "\n",
       "    .dataframe tbody tr th {\n",
       "        vertical-align: top;\n",
       "    }\n",
       "\n",
       "    .dataframe thead tr th {\n",
       "        text-align: left;\n",
       "    }\n",
       "\n",
       "    .dataframe thead tr:last-of-type th {\n",
       "        text-align: right;\n",
       "    }\n",
       "</style>\n",
       "<table border=\"1\" class=\"dataframe\">\n",
       "  <thead>\n",
       "    <tr>\n",
       "      <th></th>\n",
       "      <th colspan=\"2\" halign=\"left\">Cardiovascular_Diseases</th>\n",
       "      <th colspan=\"2\" halign=\"left\">Neoplasms</th>\n",
       "      <th colspan=\"2\" halign=\"left\">Chronic_Respiratory_Diseases</th>\n",
       "      <th colspan=\"2\" halign=\"left\">Alzheimer_s_Disease_and_Other_Dementias</th>\n",
       "      <th colspan=\"2\" halign=\"left\">Total_no_of_Deaths</th>\n",
       "    </tr>\n",
       "    <tr>\n",
       "      <th></th>\n",
       "      <th>mean</th>\n",
       "      <th>median</th>\n",
       "      <th>mean</th>\n",
       "      <th>median</th>\n",
       "      <th>mean</th>\n",
       "      <th>median</th>\n",
       "      <th>mean</th>\n",
       "      <th>median</th>\n",
       "      <th>mean</th>\n",
       "      <th>median</th>\n",
       "    </tr>\n",
       "    <tr>\n",
       "      <th>Clusters</th>\n",
       "      <th></th>\n",
       "      <th></th>\n",
       "      <th></th>\n",
       "      <th></th>\n",
       "      <th></th>\n",
       "      <th></th>\n",
       "      <th></th>\n",
       "      <th></th>\n",
       "      <th></th>\n",
       "      <th></th>\n",
       "    </tr>\n",
       "  </thead>\n",
       "  <tbody>\n",
       "    <tr>\n",
       "      <th>0</th>\n",
       "      <td>9.587014e+05</td>\n",
       "      <td>957455.0</td>\n",
       "      <td>4.980403e+05</td>\n",
       "      <td>644331.0</td>\n",
       "      <td>1.209392e+05</td>\n",
       "      <td>179468.0</td>\n",
       "      <td>86882.686567</td>\n",
       "      <td>118965.0</td>\n",
       "      <td>4.566651e+06</td>\n",
       "      <td>4811853.23</td>\n",
       "    </tr>\n",
       "    <tr>\n",
       "      <th>1</th>\n",
       "      <td>4.048287e+06</td>\n",
       "      <td>4049045.0</td>\n",
       "      <td>2.360763e+06</td>\n",
       "      <td>2337453.0</td>\n",
       "      <td>1.077120e+06</td>\n",
       "      <td>1058374.0</td>\n",
       "      <td>244448.777778</td>\n",
       "      <td>239240.0</td>\n",
       "      <td>1.900535e+07</td>\n",
       "      <td>18852367.71</td>\n",
       "    </tr>\n",
       "    <tr>\n",
       "      <th>2</th>\n",
       "      <td>2.021613e+05</td>\n",
       "      <td>178239.0</td>\n",
       "      <td>1.389673e+05</td>\n",
       "      <td>94653.0</td>\n",
       "      <td>3.519415e+04</td>\n",
       "      <td>34057.0</td>\n",
       "      <td>24678.718114</td>\n",
       "      <td>20753.0</td>\n",
       "      <td>1.316704e+06</td>\n",
       "      <td>1219050.31</td>\n",
       "    </tr>\n",
       "  </tbody>\n",
       "</table>\n",
       "</div>"
      ],
      "text/plain": [
       "         Cardiovascular_Diseases                Neoplasms             \\\n",
       "                            mean     median          mean     median   \n",
       "Clusters                                                               \n",
       "0                   9.587014e+05   957455.0  4.980403e+05   644331.0   \n",
       "1                   4.048287e+06  4049045.0  2.360763e+06  2337453.0   \n",
       "2                   2.021613e+05   178239.0  1.389673e+05    94653.0   \n",
       "\n",
       "         Chronic_Respiratory_Diseases             \\\n",
       "                                 mean     median   \n",
       "Clusters                                           \n",
       "0                        1.209392e+05   179468.0   \n",
       "1                        1.077120e+06  1058374.0   \n",
       "2                        3.519415e+04    34057.0   \n",
       "\n",
       "         Alzheimer_s_Disease_and_Other_Dementias           Total_no_of_Deaths  \\\n",
       "                                            mean    median               mean   \n",
       "Clusters                                                                        \n",
       "0                                   86882.686567  118965.0       4.566651e+06   \n",
       "1                                  244448.777778  239240.0       1.900535e+07   \n",
       "2                                   24678.718114   20753.0       1.316704e+06   \n",
       "\n",
       "                       \n",
       "               median  \n",
       "Clusters               \n",
       "0          4811853.23  \n",
       "1         18852367.71  \n",
       "2          1219050.31  "
      ]
     },
     "execution_count": 33,
     "metadata": {},
     "output_type": "execute_result"
    }
   ],
   "source": [
    "#Calculate the descriptive statistics for the clusters\n",
    "df1.groupby('Clusters').agg({'Cardiovascular_Diseases':['mean', 'median'], \n",
    "                         'Neoplasms':['mean', 'median'], \n",
    "                         'Chronic_Respiratory_Diseases':['mean', 'median'],\n",
    "                          'Alzheimer_s_Disease_and_Other_Dementias':['mean', 'median'],\n",
    "                          'Total_no_of_Deaths':['mean', 'median']})"
   ]
  },
  {
   "cell_type": "markdown",
   "id": "78da8ab4",
   "metadata": {},
   "source": [
    "##### Here, not much insight can be retrieved from this analysis. It's hard to operate with such big numbers. Besides, the variables of the df initially limited the analysis. There is no relationships between the variables, except for the concrete disease and total number of deaths. All in all, I see that Cardiovascular diseases contribute the highest numbers to the total number of deaths.\n",
    "##### It's necessary to explore categorical variables of the data set to evaluate what other factors contribute to the total number of deaths."
   ]
  }
 ],
 "metadata": {
  "kernelspec": {
   "display_name": "Python 3 (ipykernel)",
   "language": "python",
   "name": "python3"
  },
  "language_info": {
   "codemirror_mode": {
    "name": "ipython",
    "version": 3
   },
   "file_extension": ".py",
   "mimetype": "text/x-python",
   "name": "python",
   "nbconvert_exporter": "python",
   "pygments_lexer": "ipython3",
   "version": "3.9.12"
  }
 },
 "nbformat": 4,
 "nbformat_minor": 5
}
