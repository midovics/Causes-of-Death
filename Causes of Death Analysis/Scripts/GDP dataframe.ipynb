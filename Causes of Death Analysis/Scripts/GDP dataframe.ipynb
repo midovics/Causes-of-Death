{
 "cells": [
  {
   "cell_type": "markdown",
   "id": "667fd0f5",
   "metadata": {},
   "source": [
    "# Causes of Death Analysis"
   ]
  },
  {
   "cell_type": "markdown",
   "id": "dc24a9db",
   "metadata": {},
   "source": [
    "## Table of Contents"
   ]
  },
  {
   "cell_type": "markdown",
   "id": "3564905f",
   "metadata": {},
   "source": [
    "## 1. Import Libraries and Data"
   ]
  },
  {
   "cell_type": "markdown",
   "id": "03220a79",
   "metadata": {},
   "source": [
    "## 1.1 Variables and Data Types (gdp dataset)"
   ]
  },
  {
   "cell_type": "markdown",
   "id": "97624009",
   "metadata": {},
   "source": [
    "## 2. Data Cleaning and Consistency Check\n",
    "2.1 Find Missing Values\n",
    "\n",
    "2.2 Find Duplicates\n",
    "\n",
    "2.3 Find Mixed-Type Values"
   ]
  },
  {
   "cell_type": "markdown",
   "id": "3c86bfc6",
   "metadata": {},
   "source": [
    "## 3. Export gdp dataframe"
   ]
  },
  {
   "cell_type": "markdown",
   "id": "78199955",
   "metadata": {},
   "source": [
    "## 01. Import Libraries and Data"
   ]
  },
  {
   "cell_type": "code",
   "execution_count": 1,
   "id": "c8aa8cef",
   "metadata": {},
   "outputs": [],
   "source": [
    "#Import libraries\n",
    "import pandas as pd\n",
    "import numpy as np\n",
    "import os"
   ]
  },
  {
   "cell_type": "code",
   "execution_count": 2,
   "id": "873bc09e",
   "metadata": {},
   "outputs": [],
   "source": [
    "#Create a path\n",
    "path=r'C:\\Users\\midov\\Documents\\Studies\\Data Analysis\\Immersion into Data Analytics\\Achievement 6_Advanced Analytics & Dashboard Design\\Causes of Death Analysis'"
   ]
  },
  {
   "cell_type": "code",
   "execution_count": 3,
   "id": "17c349b1",
   "metadata": {},
   "outputs": [],
   "source": [
    "#Import \"Global_health_expenditure as % of GDP.csv\" file as df_gdp, using path variable\n",
    "df_gdp=pd.read_csv(os.path.join(path,'Data','Original Data','Global_health_expenditure_GDP.csv'))"
   ]
  },
  {
   "cell_type": "code",
   "execution_count": 4,
   "id": "9be2bac4",
   "metadata": {
    "scrolled": true
   },
   "outputs": [
    {
     "name": "stdout",
     "output_type": "stream",
     "text": [
      "<class 'pandas.core.frame.DataFrame'>\n",
      "RangeIndex: 2191 entries, 0 to 2190\n",
      "Data columns (total 4 columns):\n",
      " #   Column             Non-Null Count  Dtype  \n",
      "---  ------             --------------  -----  \n",
      " 0   Country/Territory  2191 non-null   object \n",
      " 1   Code               2081 non-null   object \n",
      " 2   Year               2191 non-null   int64  \n",
      " 3   Indicator          2191 non-null   float64\n",
      "dtypes: float64(1), int64(1), object(2)\n",
      "memory usage: 68.6+ KB\n"
     ]
    },
    {
     "data": {
      "text/html": [
       "<div>\n",
       "<style scoped>\n",
       "    .dataframe tbody tr th:only-of-type {\n",
       "        vertical-align: middle;\n",
       "    }\n",
       "\n",
       "    .dataframe tbody tr th {\n",
       "        vertical-align: top;\n",
       "    }\n",
       "\n",
       "    .dataframe thead th {\n",
       "        text-align: right;\n",
       "    }\n",
       "</style>\n",
       "<table border=\"1\" class=\"dataframe\">\n",
       "  <thead>\n",
       "    <tr style=\"text-align: right;\">\n",
       "      <th></th>\n",
       "      <th>count</th>\n",
       "      <th>mean</th>\n",
       "      <th>std</th>\n",
       "      <th>min</th>\n",
       "      <th>25%</th>\n",
       "      <th>50%</th>\n",
       "      <th>75%</th>\n",
       "      <th>max</th>\n",
       "    </tr>\n",
       "  </thead>\n",
       "  <tbody>\n",
       "    <tr>\n",
       "      <th>Year</th>\n",
       "      <td>2191.0</td>\n",
       "      <td>2013.991328</td>\n",
       "      <td>3.162194</td>\n",
       "      <td>2009.00</td>\n",
       "      <td>2011.00</td>\n",
       "      <td>2014.00</td>\n",
       "      <td>2017.00</td>\n",
       "      <td>2019.00</td>\n",
       "    </tr>\n",
       "    <tr>\n",
       "      <th>Indicator</th>\n",
       "      <td>2191.0</td>\n",
       "      <td>6.443501</td>\n",
       "      <td>2.841533</td>\n",
       "      <td>1.26</td>\n",
       "      <td>4.42</td>\n",
       "      <td>6.01</td>\n",
       "      <td>8.05</td>\n",
       "      <td>28.82</td>\n",
       "    </tr>\n",
       "  </tbody>\n",
       "</table>\n",
       "</div>"
      ],
      "text/plain": [
       "            count         mean       std      min      25%      50%      75%  \\\n",
       "Year       2191.0  2013.991328  3.162194  2009.00  2011.00  2014.00  2017.00   \n",
       "Indicator  2191.0     6.443501  2.841533     1.26     4.42     6.01     8.05   \n",
       "\n",
       "               max  \n",
       "Year       2019.00  \n",
       "Indicator    28.82  "
      ]
     },
     "execution_count": 4,
     "metadata": {},
     "output_type": "execute_result"
    }
   ],
   "source": [
    "#Check the df\n",
    "df_gdp.info()\n",
    "df_gdp.describe().T"
   ]
  },
  {
   "cell_type": "code",
   "execution_count": 5,
   "id": "06366b9c",
   "metadata": {
    "scrolled": true
   },
   "outputs": [
    {
     "data": {
      "text/html": [
       "<div>\n",
       "<style scoped>\n",
       "    .dataframe tbody tr th:only-of-type {\n",
       "        vertical-align: middle;\n",
       "    }\n",
       "\n",
       "    .dataframe tbody tr th {\n",
       "        vertical-align: top;\n",
       "    }\n",
       "\n",
       "    .dataframe thead th {\n",
       "        text-align: right;\n",
       "    }\n",
       "</style>\n",
       "<table border=\"1\" class=\"dataframe\">\n",
       "  <thead>\n",
       "    <tr style=\"text-align: right;\">\n",
       "      <th></th>\n",
       "      <th>Country/Territory</th>\n",
       "      <th>Code</th>\n",
       "      <th>Year</th>\n",
       "      <th>Indicator</th>\n",
       "    </tr>\n",
       "  </thead>\n",
       "  <tbody>\n",
       "    <tr>\n",
       "      <th>0</th>\n",
       "      <td>Afghanistan</td>\n",
       "      <td>AFG</td>\n",
       "      <td>2009</td>\n",
       "      <td>9.82</td>\n",
       "    </tr>\n",
       "    <tr>\n",
       "      <th>1</th>\n",
       "      <td>Afghanistan</td>\n",
       "      <td>AFG</td>\n",
       "      <td>2010</td>\n",
       "      <td>8.57</td>\n",
       "    </tr>\n",
       "    <tr>\n",
       "      <th>2</th>\n",
       "      <td>Afghanistan</td>\n",
       "      <td>AFG</td>\n",
       "      <td>2011</td>\n",
       "      <td>8.56</td>\n",
       "    </tr>\n",
       "    <tr>\n",
       "      <th>3</th>\n",
       "      <td>Afghanistan</td>\n",
       "      <td>AFG</td>\n",
       "      <td>2012</td>\n",
       "      <td>7.90</td>\n",
       "    </tr>\n",
       "    <tr>\n",
       "      <th>4</th>\n",
       "      <td>Afghanistan</td>\n",
       "      <td>AFG</td>\n",
       "      <td>2013</td>\n",
       "      <td>8.81</td>\n",
       "    </tr>\n",
       "  </tbody>\n",
       "</table>\n",
       "</div>"
      ],
      "text/plain": [
       "  Country/Territory Code  Year  Indicator\n",
       "0       Afghanistan  AFG  2009       9.82\n",
       "1       Afghanistan  AFG  2010       8.57\n",
       "2       Afghanistan  AFG  2011       8.56\n",
       "3       Afghanistan  AFG  2012       7.90\n",
       "4       Afghanistan  AFG  2013       8.81"
      ]
     },
     "execution_count": 5,
     "metadata": {},
     "output_type": "execute_result"
    }
   ],
   "source": [
    "#Check the first 5 rows\n",
    "df_gdp.head()"
   ]
  },
  {
   "cell_type": "code",
   "execution_count": 6,
   "id": "6baeca3a",
   "metadata": {},
   "outputs": [
    {
     "data": {
      "text/plain": [
       "(2191, 4)"
      ]
     },
     "execution_count": 6,
     "metadata": {},
     "output_type": "execute_result"
    }
   ],
   "source": [
    "#Check the number of rows and columns\n",
    "df_gdp.shape"
   ]
  },
  {
   "cell_type": "markdown",
   "id": "0fdf24bb",
   "metadata": {},
   "source": [
    "## 1.1 Variables and Data Types (gdp dataset)"
   ]
  },
  {
   "attachments": {
    "image-2.png": {
     "image/png": "[encoded data removed]"
    }
   },
   "cell_type": "markdown",
   "id": "ef33c716",
   "metadata": {},
   "source": [
    "![image-2.png](attachment:image-2.png)"
   ]
  },
  {
   "cell_type": "code",
   "execution_count": 7,
   "id": "44472571",
   "metadata": {},
   "outputs": [
    {
     "data": {
      "text/plain": [
       "202"
      ]
     },
     "execution_count": 7,
     "metadata": {},
     "output_type": "execute_result"
    }
   ],
   "source": [
    "#Check the total number of countries\n",
    "df_gdp['Country/Territory'].nunique()"
   ]
  },
  {
   "cell_type": "code",
   "execution_count": 8,
   "id": "0ab42850",
   "metadata": {},
   "outputs": [
    {
     "data": {
      "text/plain": [
       "Afghanistan    11\n",
       "Nauru          11\n",
       "Netherlands    11\n",
       "New Zealand    11\n",
       "Nicaragua      11\n",
       "               ..\n",
       "Montenegro      9\n",
       "Yemen           7\n",
       "Syria           4\n",
       "Libya           3\n",
       "South Sudan     3\n",
       "Name: Country/Territory, Length: 202, dtype: int64"
      ]
     },
     "execution_count": 8,
     "metadata": {},
     "output_type": "execute_result"
    }
   ],
   "source": [
    "#Check the total number of year data provided for each country\n",
    "df_gdp['Country/Territory'].value_counts()"
   ]
  },
  {
   "cell_type": "markdown",
   "id": "dd056368",
   "metadata": {},
   "source": [
    "## 02. Data Cleaning and Consistency Check"
   ]
  },
  {
   "cell_type": "code",
   "execution_count": 9,
   "id": "85eb51d8",
   "metadata": {},
   "outputs": [],
   "source": [
    "#Rename the column 'Country/Territory'\n",
    "df_gdp.rename(columns = {'Country/Territory' : 'Country'}, inplace = True)"
   ]
  },
  {
   "cell_type": "code",
   "execution_count": 10,
   "id": "c1f3238a",
   "metadata": {},
   "outputs": [],
   "source": [
    "#Replace a long country name \n",
    "df_gdp.replace(to_replace='Democratic Republic of Congo',value = 'Congo',inplace=True)"
   ]
  },
  {
   "cell_type": "markdown",
   "id": "a8be4481",
   "metadata": {},
   "source": [
    "## 2.1 Find Missing Values"
   ]
  },
  {
   "cell_type": "code",
   "execution_count": 11,
   "id": "3ed8034b",
   "metadata": {},
   "outputs": [
    {
     "data": {
      "text/plain": [
       "Country        0\n",
       "Code         110\n",
       "Year           0\n",
       "Indicator      0\n",
       "dtype: int64"
      ]
     },
     "execution_count": 11,
     "metadata": {},
     "output_type": "execute_result"
    }
   ],
   "source": [
    "#Check for null values\n",
    "df_gdp.isnull().sum()"
   ]
  },
  {
   "cell_type": "markdown",
   "id": "97349a22",
   "metadata": {},
   "source": [
    "110 null values in Code variable"
   ]
  },
  {
   "cell_type": "code",
   "execution_count": 12,
   "id": "871414ff",
   "metadata": {},
   "outputs": [],
   "source": [
    "df_gdp.dropna(subset = ['Code'], inplace = True)"
   ]
  },
  {
   "cell_type": "code",
   "execution_count": 13,
   "id": "9cda8ac4",
   "metadata": {},
   "outputs": [
    {
     "data": {
      "text/plain": [
       "(2081, 4)"
      ]
     },
     "execution_count": 13,
     "metadata": {},
     "output_type": "execute_result"
    }
   ],
   "source": [
    "df_gdp.shape"
   ]
  },
  {
   "cell_type": "markdown",
   "id": "0131af0e",
   "metadata": {},
   "source": [
    "## 2.2 Find Duplicates"
   ]
  },
  {
   "cell_type": "code",
   "execution_count": 14,
   "id": "d4678c95",
   "metadata": {},
   "outputs": [],
   "source": [
    "#Check for duplicates\n",
    "df_dups = df_gdp[df_gdp.duplicated()]"
   ]
  },
  {
   "cell_type": "code",
   "execution_count": 15,
   "id": "0f1250e1",
   "metadata": {},
   "outputs": [],
   "source": [
    "df_gdp_no_dups = df_gdp.drop_duplicates()"
   ]
  },
  {
   "cell_type": "code",
   "execution_count": 16,
   "id": "1f9c6737",
   "metadata": {},
   "outputs": [
    {
     "data": {
      "text/plain": [
       "(2081, 4)"
      ]
     },
     "execution_count": 16,
     "metadata": {},
     "output_type": "execute_result"
    }
   ],
   "source": [
    "df_gdp_no_dups.shape"
   ]
  },
  {
   "cell_type": "markdown",
   "id": "572b8194",
   "metadata": {},
   "source": [
    "No duplicates"
   ]
  },
  {
   "cell_type": "markdown",
   "id": "11e9015f",
   "metadata": {},
   "source": [
    "## 2.3 Find Mixed-Type Values"
   ]
  },
  {
   "cell_type": "code",
   "execution_count": 17,
   "id": "02e38998",
   "metadata": {},
   "outputs": [],
   "source": [
    "#Check for mixed data type\n",
    "for col in df_gdp.columns.tolist():\n",
    "  weird = (df_gdp[[col]].applymap(type) != df_gdp[[col]].iloc[0].apply(type)).any(axis = 1)\n",
    "  if len (df_gdp[weird]) > 0:\n",
    "    print (col)"
   ]
  },
  {
   "cell_type": "code",
   "execution_count": 18,
   "id": "5997d7dd",
   "metadata": {},
   "outputs": [
    {
     "data": {
      "text/plain": [
       "(2081, 4)"
      ]
     },
     "execution_count": 18,
     "metadata": {},
     "output_type": "execute_result"
    }
   ],
   "source": [
    "df_gdp.shape"
   ]
  },
  {
   "cell_type": "markdown",
   "id": "a795a12d",
   "metadata": {},
   "source": [
    "## 3. Export gdp dataframe"
   ]
  },
  {
   "cell_type": "code",
   "execution_count": 19,
   "id": "6367608e",
   "metadata": {},
   "outputs": [],
   "source": [
    "df_gdp.to_csv(os.path.join(path,'Data','Prepared Data','gdp_cleaned.csv'))"
   ]
  }
 ],
 "metadata": {
  "kernelspec": {
   "display_name": "Python 3 (ipykernel)",
   "language": "python",
   "name": "python3"
  },
  "language_info": {
   "codemirror_mode": {
    "name": "ipython",
    "version": 3
   },
   "file_extension": ".py",
   "mimetype": "text/x-python",
   "name": "python",
   "nbconvert_exporter": "python",
   "pygments_lexer": "ipython3",
   "version": "3.9.12"
  }
 },
 "nbformat": 4,
 "nbformat_minor": 5
}
