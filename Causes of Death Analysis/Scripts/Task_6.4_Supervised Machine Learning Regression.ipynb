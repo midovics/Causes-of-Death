{
 "cells": [
  {
   "cell_type": "markdown",
   "id": "2f1ad49d",
   "metadata": {},
   "source": [
    "# 6.4 Machine Learning Part 1\n",
    "\n",
    "# Contents"
   ]
  },
  {
   "cell_type": "markdown",
   "id": "60c1c993",
   "metadata": {},
   "source": [
    "### 1. Import data and libraries\n",
    "### 2. Data cleaning \n",
    "### 3. Data wrangling\n",
    "### 4. Regression analysis"
   ]
  },
  {
   "cell_type": "markdown",
   "id": "fe7df908",
   "metadata": {},
   "source": [
    "## 1. Import data and libraries"
   ]
  },
  {
   "cell_type": "code",
   "execution_count": 1,
   "id": "42f5fa4c",
   "metadata": {},
   "outputs": [],
   "source": [
    "import pandas as pd\n",
    "import numpy as np\n",
    "import seaborn as sns\n",
    "import matplotlib\n",
    "import matplotlib.pyplot as plt\n",
    "import os\n",
    "import sklearn\n",
    "from sklearn.model_selection import train_test_split \n",
    "from sklearn.linear_model import LinearRegression\n",
    "from sklearn.metrics import mean_squared_error, r2_score"
   ]
  },
  {
   "cell_type": "code",
   "execution_count": 2,
   "id": "f769c597",
   "metadata": {},
   "outputs": [],
   "source": [
    "#Display the graph without the need to \"call\" it specifically\n",
    "%matplotlib inline"
   ]
  },
  {
   "cell_type": "code",
   "execution_count": 3,
   "id": "10883191",
   "metadata": {},
   "outputs": [],
   "source": [
    "path = 'C:/Users/midov/Documents/Studies/Data Analysis/Immersion into Data Analytics/Achievement 6_Advanced Analytics & Dashboard Design/Causes of Death Analysis'"
   ]
  },
  {
   "cell_type": "code",
   "execution_count": 4,
   "id": "b2bd38ed",
   "metadata": {},
   "outputs": [],
   "source": [
    "#Import data \n",
    "df = pd.read_csv(os.path.join(path, 'Data', 'Prepared Data','df_merged_all3.csv'))"
   ]
  },
  {
   "cell_type": "markdown",
   "id": "bedd9c64",
   "metadata": {},
   "source": [
    "## 2. Data cleaning"
   ]
  },
  {
   "cell_type": "code",
   "execution_count": 5,
   "id": "31e4e5d4",
   "metadata": {},
   "outputs": [
    {
     "data": {
      "text/plain": [
       "(7485, 41)"
      ]
     },
     "execution_count": 5,
     "metadata": {},
     "output_type": "execute_result"
    }
   ],
   "source": [
    "df.shape"
   ]
  },
  {
   "cell_type": "code",
   "execution_count": 6,
   "id": "4dc8204f",
   "metadata": {},
   "outputs": [
    {
     "data": {
      "text/html": [
       "<div>\n",
       "<style scoped>\n",
       "    .dataframe tbody tr th:only-of-type {\n",
       "        vertical-align: middle;\n",
       "    }\n",
       "\n",
       "    .dataframe tbody tr th {\n",
       "        vertical-align: top;\n",
       "    }\n",
       "\n",
       "    .dataframe thead th {\n",
       "        text-align: right;\n",
       "    }\n",
       "</style>\n",
       "<table border=\"1\" class=\"dataframe\">\n",
       "  <thead>\n",
       "    <tr style=\"text-align: right;\">\n",
       "      <th></th>\n",
       "      <th>Unnamed: 0</th>\n",
       "      <th>Country</th>\n",
       "      <th>Year</th>\n",
       "      <th>Meningitis</th>\n",
       "      <th>Alzheimer_s_Disease_and_Other_Dementias</th>\n",
       "      <th>Parkinson_s_Disease</th>\n",
       "      <th>Nutritional_Deficiencies</th>\n",
       "      <th>Malaria</th>\n",
       "      <th>Drowning</th>\n",
       "      <th>Interpersonal_Violence</th>\n",
       "      <th>...</th>\n",
       "      <th>Digestive_Diseases</th>\n",
       "      <th>Fire_Heat_and_Hot_Substances</th>\n",
       "      <th>Acute_Hepatitis</th>\n",
       "      <th>Total_no_of_Deaths</th>\n",
       "      <th>Indicator</th>\n",
       "      <th>Sex</th>\n",
       "      <th>Age Group</th>\n",
       "      <th>Number</th>\n",
       "      <th>Death_indicator</th>\n",
       "      <th>Health_expedinture</th>\n",
       "    </tr>\n",
       "  </thead>\n",
       "  <tbody>\n",
       "    <tr>\n",
       "      <th>0</th>\n",
       "      <td>0</td>\n",
       "      <td>Australia</td>\n",
       "      <td>2009</td>\n",
       "      <td>49</td>\n",
       "      <td>8064</td>\n",
       "      <td>1837</td>\n",
       "      <td>137</td>\n",
       "      <td>0</td>\n",
       "      <td>207</td>\n",
       "      <td>339</td>\n",
       "      <td>...</td>\n",
       "      <td>5186</td>\n",
       "      <td>266</td>\n",
       "      <td>12</td>\n",
       "      <td>409341.56</td>\n",
       "      <td>8.56</td>\n",
       "      <td>All</td>\n",
       "      <td>[All]</td>\n",
       "      <td>140760</td>\n",
       "      <td>Low</td>\n",
       "      <td>Middle</td>\n",
       "    </tr>\n",
       "    <tr>\n",
       "      <th>1</th>\n",
       "      <td>1</td>\n",
       "      <td>Australia</td>\n",
       "      <td>2009</td>\n",
       "      <td>49</td>\n",
       "      <td>8064</td>\n",
       "      <td>1837</td>\n",
       "      <td>137</td>\n",
       "      <td>0</td>\n",
       "      <td>207</td>\n",
       "      <td>339</td>\n",
       "      <td>...</td>\n",
       "      <td>5186</td>\n",
       "      <td>266</td>\n",
       "      <td>12</td>\n",
       "      <td>269843.56</td>\n",
       "      <td>8.56</td>\n",
       "      <td>All</td>\n",
       "      <td>[0]</td>\n",
       "      <td>1261</td>\n",
       "      <td>Low</td>\n",
       "      <td>Middle</td>\n",
       "    </tr>\n",
       "    <tr>\n",
       "      <th>2</th>\n",
       "      <td>2</td>\n",
       "      <td>Australia</td>\n",
       "      <td>2009</td>\n",
       "      <td>49</td>\n",
       "      <td>8064</td>\n",
       "      <td>1837</td>\n",
       "      <td>137</td>\n",
       "      <td>0</td>\n",
       "      <td>207</td>\n",
       "      <td>339</td>\n",
       "      <td>...</td>\n",
       "      <td>5186</td>\n",
       "      <td>266</td>\n",
       "      <td>12</td>\n",
       "      <td>268813.56</td>\n",
       "      <td>8.56</td>\n",
       "      <td>All</td>\n",
       "      <td>[1-4]</td>\n",
       "      <td>230</td>\n",
       "      <td>Low</td>\n",
       "      <td>Middle</td>\n",
       "    </tr>\n",
       "    <tr>\n",
       "      <th>3</th>\n",
       "      <td>3</td>\n",
       "      <td>Australia</td>\n",
       "      <td>2009</td>\n",
       "      <td>49</td>\n",
       "      <td>8064</td>\n",
       "      <td>1837</td>\n",
       "      <td>137</td>\n",
       "      <td>0</td>\n",
       "      <td>207</td>\n",
       "      <td>339</td>\n",
       "      <td>...</td>\n",
       "      <td>5186</td>\n",
       "      <td>266</td>\n",
       "      <td>12</td>\n",
       "      <td>268718.56</td>\n",
       "      <td>8.56</td>\n",
       "      <td>All</td>\n",
       "      <td>[5-9]</td>\n",
       "      <td>134</td>\n",
       "      <td>Low</td>\n",
       "      <td>Middle</td>\n",
       "    </tr>\n",
       "    <tr>\n",
       "      <th>4</th>\n",
       "      <td>4</td>\n",
       "      <td>Australia</td>\n",
       "      <td>2009</td>\n",
       "      <td>49</td>\n",
       "      <td>8064</td>\n",
       "      <td>1837</td>\n",
       "      <td>137</td>\n",
       "      <td>0</td>\n",
       "      <td>207</td>\n",
       "      <td>339</td>\n",
       "      <td>...</td>\n",
       "      <td>5186</td>\n",
       "      <td>266</td>\n",
       "      <td>12</td>\n",
       "      <td>268736.56</td>\n",
       "      <td>8.56</td>\n",
       "      <td>All</td>\n",
       "      <td>[10-14]</td>\n",
       "      <td>151</td>\n",
       "      <td>Low</td>\n",
       "      <td>Middle</td>\n",
       "    </tr>\n",
       "  </tbody>\n",
       "</table>\n",
       "<p>5 rows × 41 columns</p>\n",
       "</div>"
      ],
      "text/plain": [
       "   Unnamed: 0    Country  Year  Meningitis  \\\n",
       "0           0  Australia  2009          49   \n",
       "1           1  Australia  2009          49   \n",
       "2           2  Australia  2009          49   \n",
       "3           3  Australia  2009          49   \n",
       "4           4  Australia  2009          49   \n",
       "\n",
       "   Alzheimer_s_Disease_and_Other_Dementias  Parkinson_s_Disease  \\\n",
       "0                                     8064                 1837   \n",
       "1                                     8064                 1837   \n",
       "2                                     8064                 1837   \n",
       "3                                     8064                 1837   \n",
       "4                                     8064                 1837   \n",
       "\n",
       "   Nutritional_Deficiencies  Malaria  Drowning  Interpersonal_Violence  ...  \\\n",
       "0                       137        0       207                     339  ...   \n",
       "1                       137        0       207                     339  ...   \n",
       "2                       137        0       207                     339  ...   \n",
       "3                       137        0       207                     339  ...   \n",
       "4                       137        0       207                     339  ...   \n",
       "\n",
       "   Digestive_Diseases  Fire_Heat_and_Hot_Substances  Acute_Hepatitis  \\\n",
       "0                5186                           266               12   \n",
       "1                5186                           266               12   \n",
       "2                5186                           266               12   \n",
       "3                5186                           266               12   \n",
       "4                5186                           266               12   \n",
       "\n",
       "   Total_no_of_Deaths  Indicator  Sex  Age Group  Number  Death_indicator  \\\n",
       "0           409341.56       8.56  All      [All]  140760              Low   \n",
       "1           269843.56       8.56  All        [0]    1261              Low   \n",
       "2           268813.56       8.56  All      [1-4]     230              Low   \n",
       "3           268718.56       8.56  All      [5-9]     134              Low   \n",
       "4           268736.56       8.56  All    [10-14]     151              Low   \n",
       "\n",
       "   Health_expedinture  \n",
       "0              Middle  \n",
       "1              Middle  \n",
       "2              Middle  \n",
       "3              Middle  \n",
       "4              Middle  \n",
       "\n",
       "[5 rows x 41 columns]"
      ]
     },
     "execution_count": 6,
     "metadata": {},
     "output_type": "execute_result"
    }
   ],
   "source": [
    "df.head()"
   ]
  },
  {
   "cell_type": "code",
   "execution_count": 7,
   "id": "0a4c0b26",
   "metadata": {},
   "outputs": [],
   "source": [
    "new_df=df.drop(['Unnamed: 0'], axis=1)"
   ]
  },
  {
   "cell_type": "code",
   "execution_count": 8,
   "id": "b8a3237c",
   "metadata": {},
   "outputs": [
    {
     "name": "stdout",
     "output_type": "stream",
     "text": [
      "<class 'pandas.core.frame.DataFrame'>\n",
      "RangeIndex: 7485 entries, 0 to 7484\n",
      "Data columns (total 40 columns):\n",
      " #   Column                                      Non-Null Count  Dtype  \n",
      "---  ------                                      --------------  -----  \n",
      " 0   Country                                     7485 non-null   object \n",
      " 1   Year                                        7485 non-null   int64  \n",
      " 2   Meningitis                                  7485 non-null   int64  \n",
      " 3   Alzheimer_s_Disease_and_Other_Dementias     7485 non-null   int64  \n",
      " 4   Parkinson_s_Disease                         7485 non-null   int64  \n",
      " 5   Nutritional_Deficiencies                    7485 non-null   int64  \n",
      " 6   Malaria                                     7485 non-null   int64  \n",
      " 7   Drowning                                    7485 non-null   int64  \n",
      " 8   Interpersonal_Violence                      7485 non-null   int64  \n",
      " 9   Maternal_Disorders                          7485 non-null   int64  \n",
      " 10  HIV_AIDS                                    7485 non-null   int64  \n",
      " 11  Drug_Use_Disorders                          7485 non-null   int64  \n",
      " 12  Tuberculosis                                7485 non-null   int64  \n",
      " 13  Cardiovascular_Diseases                     7485 non-null   int64  \n",
      " 14  Lower_Respiratory_Infections                7485 non-null   int64  \n",
      " 15  Neonatal_Disorders                          7485 non-null   int64  \n",
      " 16  Alcohol_Use_Disorders                       7485 non-null   int64  \n",
      " 17  Self_harm                                   7485 non-null   int64  \n",
      " 18  Exposure_to_Forces_of_Nature                7485 non-null   int64  \n",
      " 19  Diarrheal_Diseases                          7485 non-null   int64  \n",
      " 20  Environmental_Heat_and_Cold_Exposure        7485 non-null   int64  \n",
      " 21  Neoplasms                                   7485 non-null   int64  \n",
      " 22  Conflict_and_Terrorism                      7485 non-null   int64  \n",
      " 23  Diabetes_Mellitus                           7485 non-null   int64  \n",
      " 24  Chronic_Kidney_Disease                      7485 non-null   int64  \n",
      " 25  Poisonings                                  7485 non-null   int64  \n",
      " 26  Protein_Energy_Malnutrition                 7485 non-null   int64  \n",
      " 27  Road_Injuries                               7485 non-null   int64  \n",
      " 28  Chronic_Respiratory_Diseases                7485 non-null   int64  \n",
      " 29  Cirrhosis_and_Other_Chronic_Liver_Diseases  7485 non-null   int64  \n",
      " 30  Digestive_Diseases                          7485 non-null   int64  \n",
      " 31  Fire_Heat_and_Hot_Substances                7485 non-null   int64  \n",
      " 32  Acute_Hepatitis                             7485 non-null   int64  \n",
      " 33  Total_no_of_Deaths                          7485 non-null   float64\n",
      " 34  Indicator                                   7485 non-null   float64\n",
      " 35  Sex                                         7485 non-null   object \n",
      " 36  Age Group                                   7485 non-null   object \n",
      " 37  Number                                      7485 non-null   int64  \n",
      " 38  Death_indicator                             6729 non-null   object \n",
      " 39  Health_expedinture                          6666 non-null   object \n",
      "dtypes: float64(2), int64(33), object(5)\n",
      "memory usage: 2.3+ MB\n"
     ]
    }
   ],
   "source": [
    "#Check for missing values\n",
    "new_df.info()"
   ]
  },
  {
   "cell_type": "markdown",
   "id": "a5a393e0",
   "metadata": {},
   "source": [
    "##### Columns with missing values won't be used for regression analysis, can be disregarded"
   ]
  },
  {
   "cell_type": "code",
   "execution_count": 9,
   "id": "d249d09c",
   "metadata": {},
   "outputs": [
    {
     "data": {
      "text/html": [
       "<div>\n",
       "<style scoped>\n",
       "    .dataframe tbody tr th:only-of-type {\n",
       "        vertical-align: middle;\n",
       "    }\n",
       "\n",
       "    .dataframe tbody tr th {\n",
       "        vertical-align: top;\n",
       "    }\n",
       "\n",
       "    .dataframe thead th {\n",
       "        text-align: right;\n",
       "    }\n",
       "</style>\n",
       "<table border=\"1\" class=\"dataframe\">\n",
       "  <thead>\n",
       "    <tr style=\"text-align: right;\">\n",
       "      <th></th>\n",
       "      <th>Country</th>\n",
       "      <th>Year</th>\n",
       "      <th>Meningitis</th>\n",
       "      <th>Alzheimer_s_Disease_and_Other_Dementias</th>\n",
       "      <th>Parkinson_s_Disease</th>\n",
       "      <th>Nutritional_Deficiencies</th>\n",
       "      <th>Malaria</th>\n",
       "      <th>Drowning</th>\n",
       "      <th>Interpersonal_Violence</th>\n",
       "      <th>Maternal_Disorders</th>\n",
       "      <th>...</th>\n",
       "      <th>Digestive_Diseases</th>\n",
       "      <th>Fire_Heat_and_Hot_Substances</th>\n",
       "      <th>Acute_Hepatitis</th>\n",
       "      <th>Total_no_of_Deaths</th>\n",
       "      <th>Indicator</th>\n",
       "      <th>Sex</th>\n",
       "      <th>Age Group</th>\n",
       "      <th>Number</th>\n",
       "      <th>Death_indicator</th>\n",
       "      <th>Health_expedinture</th>\n",
       "    </tr>\n",
       "  </thead>\n",
       "  <tbody>\n",
       "    <tr>\n",
       "      <th>0</th>\n",
       "      <td>Australia</td>\n",
       "      <td>2009</td>\n",
       "      <td>49</td>\n",
       "      <td>8064</td>\n",
       "      <td>1837</td>\n",
       "      <td>137</td>\n",
       "      <td>0</td>\n",
       "      <td>207</td>\n",
       "      <td>339</td>\n",
       "      <td>18</td>\n",
       "      <td>...</td>\n",
       "      <td>5186</td>\n",
       "      <td>266</td>\n",
       "      <td>12</td>\n",
       "      <td>409341.56</td>\n",
       "      <td>8.56</td>\n",
       "      <td>All</td>\n",
       "      <td>[All]</td>\n",
       "      <td>140760</td>\n",
       "      <td>Low</td>\n",
       "      <td>Middle</td>\n",
       "    </tr>\n",
       "    <tr>\n",
       "      <th>1</th>\n",
       "      <td>Australia</td>\n",
       "      <td>2009</td>\n",
       "      <td>49</td>\n",
       "      <td>8064</td>\n",
       "      <td>1837</td>\n",
       "      <td>137</td>\n",
       "      <td>0</td>\n",
       "      <td>207</td>\n",
       "      <td>339</td>\n",
       "      <td>18</td>\n",
       "      <td>...</td>\n",
       "      <td>5186</td>\n",
       "      <td>266</td>\n",
       "      <td>12</td>\n",
       "      <td>269843.56</td>\n",
       "      <td>8.56</td>\n",
       "      <td>All</td>\n",
       "      <td>[0]</td>\n",
       "      <td>1261</td>\n",
       "      <td>Low</td>\n",
       "      <td>Middle</td>\n",
       "    </tr>\n",
       "    <tr>\n",
       "      <th>2</th>\n",
       "      <td>Australia</td>\n",
       "      <td>2009</td>\n",
       "      <td>49</td>\n",
       "      <td>8064</td>\n",
       "      <td>1837</td>\n",
       "      <td>137</td>\n",
       "      <td>0</td>\n",
       "      <td>207</td>\n",
       "      <td>339</td>\n",
       "      <td>18</td>\n",
       "      <td>...</td>\n",
       "      <td>5186</td>\n",
       "      <td>266</td>\n",
       "      <td>12</td>\n",
       "      <td>268813.56</td>\n",
       "      <td>8.56</td>\n",
       "      <td>All</td>\n",
       "      <td>[1-4]</td>\n",
       "      <td>230</td>\n",
       "      <td>Low</td>\n",
       "      <td>Middle</td>\n",
       "    </tr>\n",
       "    <tr>\n",
       "      <th>3</th>\n",
       "      <td>Australia</td>\n",
       "      <td>2009</td>\n",
       "      <td>49</td>\n",
       "      <td>8064</td>\n",
       "      <td>1837</td>\n",
       "      <td>137</td>\n",
       "      <td>0</td>\n",
       "      <td>207</td>\n",
       "      <td>339</td>\n",
       "      <td>18</td>\n",
       "      <td>...</td>\n",
       "      <td>5186</td>\n",
       "      <td>266</td>\n",
       "      <td>12</td>\n",
       "      <td>268718.56</td>\n",
       "      <td>8.56</td>\n",
       "      <td>All</td>\n",
       "      <td>[5-9]</td>\n",
       "      <td>134</td>\n",
       "      <td>Low</td>\n",
       "      <td>Middle</td>\n",
       "    </tr>\n",
       "    <tr>\n",
       "      <th>4</th>\n",
       "      <td>Australia</td>\n",
       "      <td>2009</td>\n",
       "      <td>49</td>\n",
       "      <td>8064</td>\n",
       "      <td>1837</td>\n",
       "      <td>137</td>\n",
       "      <td>0</td>\n",
       "      <td>207</td>\n",
       "      <td>339</td>\n",
       "      <td>18</td>\n",
       "      <td>...</td>\n",
       "      <td>5186</td>\n",
       "      <td>266</td>\n",
       "      <td>12</td>\n",
       "      <td>268736.56</td>\n",
       "      <td>8.56</td>\n",
       "      <td>All</td>\n",
       "      <td>[10-14]</td>\n",
       "      <td>151</td>\n",
       "      <td>Low</td>\n",
       "      <td>Middle</td>\n",
       "    </tr>\n",
       "  </tbody>\n",
       "</table>\n",
       "<p>5 rows × 40 columns</p>\n",
       "</div>"
      ],
      "text/plain": [
       "     Country  Year  Meningitis  Alzheimer_s_Disease_and_Other_Dementias  \\\n",
       "0  Australia  2009          49                                     8064   \n",
       "1  Australia  2009          49                                     8064   \n",
       "2  Australia  2009          49                                     8064   \n",
       "3  Australia  2009          49                                     8064   \n",
       "4  Australia  2009          49                                     8064   \n",
       "\n",
       "   Parkinson_s_Disease  Nutritional_Deficiencies  Malaria  Drowning  \\\n",
       "0                 1837                       137        0       207   \n",
       "1                 1837                       137        0       207   \n",
       "2                 1837                       137        0       207   \n",
       "3                 1837                       137        0       207   \n",
       "4                 1837                       137        0       207   \n",
       "\n",
       "   Interpersonal_Violence  Maternal_Disorders  ...  Digestive_Diseases  \\\n",
       "0                     339                  18  ...                5186   \n",
       "1                     339                  18  ...                5186   \n",
       "2                     339                  18  ...                5186   \n",
       "3                     339                  18  ...                5186   \n",
       "4                     339                  18  ...                5186   \n",
       "\n",
       "   Fire_Heat_and_Hot_Substances  Acute_Hepatitis  Total_no_of_Deaths  \\\n",
       "0                           266               12           409341.56   \n",
       "1                           266               12           269843.56   \n",
       "2                           266               12           268813.56   \n",
       "3                           266               12           268718.56   \n",
       "4                           266               12           268736.56   \n",
       "\n",
       "   Indicator  Sex  Age Group  Number  Death_indicator  Health_expedinture  \n",
       "0       8.56  All      [All]  140760              Low              Middle  \n",
       "1       8.56  All        [0]    1261              Low              Middle  \n",
       "2       8.56  All      [1-4]     230              Low              Middle  \n",
       "3       8.56  All      [5-9]     134              Low              Middle  \n",
       "4       8.56  All    [10-14]     151              Low              Middle  \n",
       "\n",
       "[5 rows x 40 columns]"
      ]
     },
     "execution_count": 9,
     "metadata": {},
     "output_type": "execute_result"
    }
   ],
   "source": [
    "new_df.head()"
   ]
  },
  {
   "cell_type": "code",
   "execution_count": 10,
   "id": "19df1b09",
   "metadata": {},
   "outputs": [],
   "source": [
    "#Check for duplicates\n",
    "dups = new_df.duplicated()"
   ]
  },
  {
   "cell_type": "code",
   "execution_count": 11,
   "id": "9ca96604",
   "metadata": {},
   "outputs": [
    {
     "data": {
      "text/plain": [
       "(7485,)"
      ]
     },
     "execution_count": 11,
     "metadata": {},
     "output_type": "execute_result"
    }
   ],
   "source": [
    "dups.shape"
   ]
  },
  {
   "cell_type": "code",
   "execution_count": 12,
   "id": "4d8b34a4",
   "metadata": {},
   "outputs": [
    {
     "name": "stderr",
     "output_type": "stream",
     "text": [
      "C:\\Users\\midov\\anaconda3\\lib\\site-packages\\seaborn\\distributions.py:2619: FutureWarning: `distplot` is a deprecated function and will be removed in a future version. Please adapt your code to use either `displot` (a figure-level function with similar flexibility) or `histplot` (an axes-level function for histograms).\n",
      "  warnings.warn(msg, FutureWarning)\n"
     ]
    },
    {
     "data": {
      "text/plain": [
       "<AxesSubplot:xlabel='Total_no_of_Deaths', ylabel='Density'>"
      ]
     },
     "execution_count": 12,
     "metadata": {},
     "output_type": "execute_result"
    },
    {
     "data": {
      "image/png": "[encoded data removed]",
      "text/plain": [
       "<Figure size 432x288 with 1 Axes>"
      ]
     },
     "metadata": {
      "needs_background": "light"
     },
     "output_type": "display_data"
    }
   ],
   "source": [
    "#Check the extreme values\n",
    "sns.distplot(df['Total_no_of_Deaths'], bins=30)"
   ]
  },
  {
   "cell_type": "code",
   "execution_count": 13,
   "id": "a6d765d4",
   "metadata": {},
   "outputs": [
    {
     "data": {
      "text/plain": [
       "3737542.9355232297"
      ]
     },
     "execution_count": 13,
     "metadata": {},
     "output_type": "execute_result"
    }
   ],
   "source": [
    "#Check the mean\n",
    "new_df['Total_no_of_Deaths'].mean() "
   ]
  },
  {
   "cell_type": "code",
   "execution_count": 14,
   "id": "7056c90d",
   "metadata": {},
   "outputs": [
    {
     "data": {
      "text/plain": [
       "1682617.1"
      ]
     },
     "execution_count": 14,
     "metadata": {},
     "output_type": "execute_result"
    }
   ],
   "source": [
    "#Check the median\n",
    "new_df['Total_no_of_Deaths'].median() "
   ]
  },
  {
   "cell_type": "code",
   "execution_count": 15,
   "id": "b4a28fde",
   "metadata": {},
   "outputs": [
    {
     "data": {
      "text/plain": [
       "20031914.07"
      ]
     },
     "execution_count": 15,
     "metadata": {},
     "output_type": "execute_result"
    }
   ],
   "source": [
    "#Check the max\n",
    "new_df['Total_no_of_Deaths'].max() "
   ]
  },
  {
   "cell_type": "markdown",
   "id": "cc7f2d48",
   "metadata": {},
   "source": [
    "## 3. Data wrangling (prep for regression analysis)"
   ]
  },
  {
   "cell_type": "code",
   "execution_count": 16,
   "id": "da4b00a2",
   "metadata": {},
   "outputs": [
    {
     "data": {
      "image/png": "[encoded data removed]",
      "text/plain": [
       "<Figure size 432x288 with 1 Axes>"
      ]
     },
     "metadata": {
      "needs_background": "light"
     },
     "output_type": "display_data"
    }
   ],
   "source": [
    "#Create a scatterplot using matplotlib for another look at how the chosen variables plot against each other\n",
    "new_df.plot(x = 'Chronic_Respiratory_Diseases', y='Total_no_of_Deaths',style='o')\n",
    "plt.title('Chronic Respiratory Diseases vs Total No. of Deaths')  \n",
    "plt.xlabel('Chronic Respiratory Diseases')  \n",
    "plt.ylabel('Total No. of Deaths')  \n",
    "plt.show()"
   ]
  },
  {
   "cell_type": "markdown",
   "id": "cdf9c517",
   "metadata": {},
   "source": [
    "#### Hypothesis: the more number of Chronic Respiratory diseases, the more number of deaths a country has."
   ]
  },
  {
   "cell_type": "code",
   "execution_count": 17,
   "id": "feca64b7",
   "metadata": {},
   "outputs": [],
   "source": [
    "#Reshape the variables into NumPy arrays and put them into separate objects\n",
    "X = new_df['Chronic_Respiratory_Diseases'].values.reshape(-1,1)\n",
    "y = new_df['Total_no_of_Deaths'].values.reshape(-1,1)"
   ]
  },
  {
   "cell_type": "code",
   "execution_count": 18,
   "id": "0e6751c3",
   "metadata": {},
   "outputs": [
    {
     "data": {
      "text/plain": [
       "array([[  8342],\n",
       "       [  8342],\n",
       "       [  8342],\n",
       "       ...,\n",
       "       [224988],\n",
       "       [224988],\n",
       "       [224988]], dtype=int64)"
      ]
     },
     "execution_count": 18,
     "metadata": {},
     "output_type": "execute_result"
    }
   ],
   "source": [
    "X"
   ]
  },
  {
   "cell_type": "code",
   "execution_count": 19,
   "id": "1f98d6f6",
   "metadata": {},
   "outputs": [
    {
     "data": {
      "text/plain": [
       "array([[ 409341.56],\n",
       "       [ 269843.56],\n",
       "       [ 268813.56],\n",
       "       ...,\n",
       "       [5918111.77],\n",
       "       [6273763.77],\n",
       "       [5738227.77]])"
      ]
     },
     "execution_count": 19,
     "metadata": {},
     "output_type": "execute_result"
    }
   ],
   "source": [
    "y"
   ]
  },
  {
   "cell_type": "code",
   "execution_count": 20,
   "id": "559c4e55",
   "metadata": {},
   "outputs": [],
   "source": [
    "#Split the data into a training set and a test set\n",
    "X_train, X_test, y_train, y_test = train_test_split(X, y, test_size=0.3, random_state=0)"
   ]
  },
  {
   "cell_type": "markdown",
   "id": "00ff39fd",
   "metadata": {},
   "source": [
    "## 4. Regression analysis"
   ]
  },
  {
   "cell_type": "code",
   "execution_count": 21,
   "id": "14f4183d",
   "metadata": {},
   "outputs": [],
   "source": [
    "#Create a regression object\n",
    "regression = LinearRegression()"
   ]
  },
  {
   "cell_type": "code",
   "execution_count": 22,
   "id": "775837f6",
   "metadata": {},
   "outputs": [
    {
     "data": {
      "text/plain": [
       "LinearRegression()"
      ]
     },
     "execution_count": 22,
     "metadata": {},
     "output_type": "execute_result"
    }
   ],
   "source": [
    "#Fit the regression object onto the training set\n",
    "regression.fit(X_train, y_train)"
   ]
  },
  {
   "cell_type": "code",
   "execution_count": 23,
   "id": "d52bf67b",
   "metadata": {},
   "outputs": [],
   "source": [
    "#Predict the values of y using X\n",
    "y_predicted = regression.predict(X_test)"
   ]
  },
  {
   "cell_type": "code",
   "execution_count": 24,
   "id": "cffbe31a",
   "metadata": {},
   "outputs": [
    {
     "data": {
      "image/png": "[encoded data removed]",
      "text/plain": [
       "<Figure size 432x288 with 1 Axes>"
      ]
     },
     "metadata": {
      "needs_background": "light"
     },
     "output_type": "display_data"
    }
   ],
   "source": [
    "#Create a plot that shows the regression line from the model on the test set\n",
    "plot_test = plt\n",
    "plot_test.scatter(X_test, y_test, color='gray', s = 15)\n",
    "plot_test.plot(X_test, y_predicted, color='red', linewidth =3)\n",
    "plot_test.title('Chronic Respiratory Diseases vs Total No. of Death (Test set)')\n",
    "plot_test.xlabel('Chronic_Respiratory_Diseases')\n",
    "plot_test.ylabel('Total_no_of_Deaths')\n",
    "plot_test.show()"
   ]
  },
  {
   "cell_type": "code",
   "execution_count": 25,
   "id": "b0e582e4",
   "metadata": {},
   "outputs": [],
   "source": [
    "#Create objects that contain the model summary statistics\n",
    "rmse = mean_squared_error(y_test, y_predicted) \n",
    "r2 = r2_score(y_test, y_predicted)"
   ]
  },
  {
   "cell_type": "code",
   "execution_count": 26,
   "id": "243bbe42",
   "metadata": {},
   "outputs": [
    {
     "name": "stdout",
     "output_type": "stream",
     "text": [
      "Slope: [[16.73466661]]\n",
      "Mean squared error:  885089295567.4167\n",
      "R2 score:  0.9683954615967514\n"
     ]
    }
   ],
   "source": [
    "#Print the model summary statistics\n",
    "print('Slope:' ,regression.coef_)\n",
    "print('Mean squared error: ', rmse)\n",
    "print('R2 score: ', r2)"
   ]
  },
  {
   "cell_type": "markdown",
   "id": "362b951f",
   "metadata": {},
   "source": [
    "##### Evoluation of performance of the model: The slope is positive, so the relationship is positive. This aligns with my hypothesis that the more number of Chronic Respiratory diseases, the more number of deaths a country has. However, the MSE is high at 885089295567, so the regression line is not a representation of the data. The R2 score of 0.96 represents a good fit."
   ]
  },
  {
   "cell_type": "code",
   "execution_count": 27,
   "id": "9b4ca3fe",
   "metadata": {},
   "outputs": [
    {
     "data": {
      "text/plain": [
       "array([[ 1738981.92070777],\n",
       "       [18512372.54778533],\n",
       "       [ 1263868.00102455],\n",
       "       ...,\n",
       "       [ 1501801.49086485],\n",
       "       [18835803.44932869],\n",
       "       [ 4889366.58309948]])"
      ]
     },
     "execution_count": 27,
     "metadata": {},
     "output_type": "execute_result"
    }
   ],
   "source": [
    "y_predicted"
   ]
  },
  {
   "cell_type": "code",
   "execution_count": 28,
   "id": "6179ccb9",
   "metadata": {},
   "outputs": [
    {
     "data": {
      "text/html": [
       "<div>\n",
       "<style scoped>\n",
       "    .dataframe tbody tr th:only-of-type {\n",
       "        vertical-align: middle;\n",
       "    }\n",
       "\n",
       "    .dataframe tbody tr th {\n",
       "        vertical-align: top;\n",
       "    }\n",
       "\n",
       "    .dataframe thead th {\n",
       "        text-align: right;\n",
       "    }\n",
       "</style>\n",
       "<table border=\"1\" class=\"dataframe\">\n",
       "  <thead>\n",
       "    <tr style=\"text-align: right;\">\n",
       "      <th></th>\n",
       "      <th>Actual</th>\n",
       "      <th>Predicted</th>\n",
       "    </tr>\n",
       "  </thead>\n",
       "  <tbody>\n",
       "    <tr>\n",
       "      <th>0</th>\n",
       "      <td>1474393.38</td>\n",
       "      <td>1.738982e+06</td>\n",
       "    </tr>\n",
       "    <tr>\n",
       "      <th>1</th>\n",
       "      <td>19657139.98</td>\n",
       "      <td>1.851237e+07</td>\n",
       "    </tr>\n",
       "    <tr>\n",
       "      <th>2</th>\n",
       "      <td>278465.56</td>\n",
       "      <td>1.263868e+06</td>\n",
       "    </tr>\n",
       "    <tr>\n",
       "      <th>3</th>\n",
       "      <td>5891177.77</td>\n",
       "      <td>4.889367e+06</td>\n",
       "    </tr>\n",
       "    <tr>\n",
       "      <th>4</th>\n",
       "      <td>19657130.98</td>\n",
       "      <td>1.851237e+07</td>\n",
       "    </tr>\n",
       "    <tr>\n",
       "      <th>5</th>\n",
       "      <td>3877199.79</td>\n",
       "      <td>1.769422e+06</td>\n",
       "    </tr>\n",
       "    <tr>\n",
       "      <th>6</th>\n",
       "      <td>468558.72</td>\n",
       "      <td>1.358837e+06</td>\n",
       "    </tr>\n",
       "    <tr>\n",
       "      <th>7</th>\n",
       "      <td>1136476.84</td>\n",
       "      <td>1.866400e+06</td>\n",
       "    </tr>\n",
       "    <tr>\n",
       "      <th>8</th>\n",
       "      <td>2458859.98</td>\n",
       "      <td>2.211385e+06</td>\n",
       "    </tr>\n",
       "    <tr>\n",
       "      <th>9</th>\n",
       "      <td>1330221.55</td>\n",
       "      <td>1.673934e+06</td>\n",
       "    </tr>\n",
       "    <tr>\n",
       "      <th>10</th>\n",
       "      <td>5151402.25</td>\n",
       "      <td>4.479300e+06</td>\n",
       "    </tr>\n",
       "    <tr>\n",
       "      <th>11</th>\n",
       "      <td>562387.84</td>\n",
       "      <td>1.431934e+06</td>\n",
       "    </tr>\n",
       "    <tr>\n",
       "      <th>12</th>\n",
       "      <td>5100594.20</td>\n",
       "      <td>4.261398e+06</td>\n",
       "    </tr>\n",
       "    <tr>\n",
       "      <th>13</th>\n",
       "      <td>18757701.57</td>\n",
       "      <td>1.925778e+07</td>\n",
       "    </tr>\n",
       "    <tr>\n",
       "      <th>14</th>\n",
       "      <td>306024.27</td>\n",
       "      <td>1.300383e+06</td>\n",
       "    </tr>\n",
       "    <tr>\n",
       "      <th>15</th>\n",
       "      <td>1200957.63</td>\n",
       "      <td>1.491710e+06</td>\n",
       "    </tr>\n",
       "    <tr>\n",
       "      <th>16</th>\n",
       "      <td>2356793.95</td>\n",
       "      <td>2.160947e+06</td>\n",
       "    </tr>\n",
       "    <tr>\n",
       "      <th>17</th>\n",
       "      <td>288430.04</td>\n",
       "      <td>1.287815e+06</td>\n",
       "    </tr>\n",
       "    <tr>\n",
       "      <th>18</th>\n",
       "      <td>330054.91</td>\n",
       "      <td>1.311746e+06</td>\n",
       "    </tr>\n",
       "    <tr>\n",
       "      <th>19</th>\n",
       "      <td>2579716.17</td>\n",
       "      <td>2.305634e+06</td>\n",
       "    </tr>\n",
       "    <tr>\n",
       "      <th>20</th>\n",
       "      <td>19657129.98</td>\n",
       "      <td>1.851237e+07</td>\n",
       "    </tr>\n",
       "    <tr>\n",
       "      <th>21</th>\n",
       "      <td>1304616.55</td>\n",
       "      <td>1.673934e+06</td>\n",
       "    </tr>\n",
       "    <tr>\n",
       "      <th>22</th>\n",
       "      <td>2694990.59</td>\n",
       "      <td>2.405323e+06</td>\n",
       "    </tr>\n",
       "    <tr>\n",
       "      <th>23</th>\n",
       "      <td>18852307.71</td>\n",
       "      <td>1.883580e+07</td>\n",
       "    </tr>\n",
       "    <tr>\n",
       "      <th>24</th>\n",
       "      <td>1188749.95</td>\n",
       "      <td>1.926711e+06</td>\n",
       "    </tr>\n",
       "    <tr>\n",
       "      <th>25</th>\n",
       "      <td>298651.25</td>\n",
       "      <td>1.296952e+06</td>\n",
       "    </tr>\n",
       "    <tr>\n",
       "      <th>26</th>\n",
       "      <td>1252239.74</td>\n",
       "      <td>1.501801e+06</td>\n",
       "    </tr>\n",
       "    <tr>\n",
       "      <th>27</th>\n",
       "      <td>5193066.25</td>\n",
       "      <td>4.479300e+06</td>\n",
       "    </tr>\n",
       "    <tr>\n",
       "      <th>28</th>\n",
       "      <td>5181813.26</td>\n",
       "      <td>4.174411e+06</td>\n",
       "    </tr>\n",
       "    <tr>\n",
       "      <th>29</th>\n",
       "      <td>2687785.59</td>\n",
       "      <td>2.405323e+06</td>\n",
       "    </tr>\n",
       "  </tbody>\n",
       "</table>\n",
       "</div>"
      ],
      "text/plain": [
       "         Actual     Predicted\n",
       "0    1474393.38  1.738982e+06\n",
       "1   19657139.98  1.851237e+07\n",
       "2     278465.56  1.263868e+06\n",
       "3    5891177.77  4.889367e+06\n",
       "4   19657130.98  1.851237e+07\n",
       "5    3877199.79  1.769422e+06\n",
       "6     468558.72  1.358837e+06\n",
       "7    1136476.84  1.866400e+06\n",
       "8    2458859.98  2.211385e+06\n",
       "9    1330221.55  1.673934e+06\n",
       "10   5151402.25  4.479300e+06\n",
       "11    562387.84  1.431934e+06\n",
       "12   5100594.20  4.261398e+06\n",
       "13  18757701.57  1.925778e+07\n",
       "14    306024.27  1.300383e+06\n",
       "15   1200957.63  1.491710e+06\n",
       "16   2356793.95  2.160947e+06\n",
       "17    288430.04  1.287815e+06\n",
       "18    330054.91  1.311746e+06\n",
       "19   2579716.17  2.305634e+06\n",
       "20  19657129.98  1.851237e+07\n",
       "21   1304616.55  1.673934e+06\n",
       "22   2694990.59  2.405323e+06\n",
       "23  18852307.71  1.883580e+07\n",
       "24   1188749.95  1.926711e+06\n",
       "25    298651.25  1.296952e+06\n",
       "26   1252239.74  1.501801e+06\n",
       "27   5193066.25  4.479300e+06\n",
       "28   5181813.26  4.174411e+06\n",
       "29   2687785.59  2.405323e+06"
      ]
     },
     "execution_count": 28,
     "metadata": {},
     "output_type": "execute_result"
    }
   ],
   "source": [
    "#Create a dataframe comparing the actual and predicted values of y\n",
    "data = pd.DataFrame({'Actual': y_test.flatten(), 'Predicted': y_predicted.flatten()})\n",
    "data.head(30)"
   ]
  },
  {
   "cell_type": "markdown",
   "id": "08ef60f2",
   "metadata": {},
   "source": [
    "##### There is a difference between the actual and predicted y values. "
   ]
  },
  {
   "cell_type": "markdown",
   "id": "060315ae",
   "metadata": {},
   "source": [
    "### Compare how the regression fits the training set"
   ]
  },
  {
   "cell_type": "code",
   "execution_count": 29,
   "id": "80b237b5",
   "metadata": {},
   "outputs": [],
   "source": [
    "#Predict\n",
    "y_predicted_train = regression.predict(X_train)"
   ]
  },
  {
   "cell_type": "code",
   "execution_count": 30,
   "id": "8a5569e9",
   "metadata": {},
   "outputs": [],
   "source": [
    "rmse = mean_squared_error(y_train, y_predicted_train)\n",
    "r2 = r2_score(y_train, y_predicted_train)"
   ]
  },
  {
   "cell_type": "code",
   "execution_count": 31,
   "id": "337484b8",
   "metadata": {},
   "outputs": [
    {
     "name": "stdout",
     "output_type": "stream",
     "text": [
      "Slope: [[16.73466661]]\n",
      "Mean squared error:  909302000856.2947\n",
      "R2 score:  0.9680929262604324\n"
     ]
    }
   ],
   "source": [
    "print('Slope:' ,regression.coef_)\n",
    "print('Mean squared error: ', rmse)\n",
    "print('R2 score: ', r2)"
   ]
  },
  {
   "cell_type": "code",
   "execution_count": 32,
   "id": "07adc4bf",
   "metadata": {},
   "outputs": [
    {
     "data": {
      "image/png": "[encoded data removed]",
      "text/plain": [
       "<Figure size 432x288 with 1 Axes>"
      ]
     },
     "metadata": {
      "needs_background": "light"
     },
     "output_type": "display_data"
    }
   ],
   "source": [
    "#Visualize the training set results\n",
    "plot_test = plt\n",
    "plot_test.scatter(X_train, y_train, color='green', s = 15)\n",
    "plot_test.plot(X_train, y_predicted_train, color='red', linewidth =3)\n",
    "plot_test.title('Chronic Respiratory Diseases vs Total No. of Death (Train set)')\n",
    "plot_test.xlabel('Chronic Respiratory Diseases')\n",
    "plot_test.ylabel('Total No. of Death')\n",
    "plot_test.show()"
   ]
  },
  {
   "cell_type": "markdown",
   "id": "7746d5b6",
   "metadata": {},
   "source": [
    "#### The values of the training set are similar to those of the test set. In spite of the fact that relationship is positive and R2 score of 0.96 represents a good fit,  this model is not viable for making predictions because of high MSE. The hypothesis is partially true."
   ]
  }
 ],
 "metadata": {
  "kernelspec": {
   "display_name": "Python 3 (ipykernel)",
   "language": "python",
   "name": "python3"
  },
  "language_info": {
   "codemirror_mode": {
    "name": "ipython",
    "version": 3
   },
   "file_extension": ".py",
   "mimetype": "text/x-python",
   "name": "python",
   "nbconvert_exporter": "python",
   "pygments_lexer": "ipython3",
   "version": "3.9.12"
  }
 },
 "nbformat": 4,
 "nbformat_minor": 5
}
